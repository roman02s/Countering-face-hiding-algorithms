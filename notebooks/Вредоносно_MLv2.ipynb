{
 "nbformat": 4,
 "nbformat_minor": 0,
 "metadata": {
  "colab": {
   "provenance": []
  },
  "kernelspec": {
   "name": "python3",
   "display_name": "Python 3"
  },
  "language_info": {
   "name": "python"
  }
 },
 "cells": [
  {
   "cell_type": "markdown",
   "source": [
    "# Preprocessing part\n"
   ],
   "metadata": {
    "id": "EBVr4cOU9xIQ"
   }
  },
  {
   "cell_type": "code",
   "source": [
    "!pip install adversarial-robustness-toolbox"
   ],
   "metadata": {
    "colab": {
     "base_uri": "https://localhost:8080/"
    },
    "id": "ZZ9hVRTdzur5",
    "outputId": "7c2796ed-e581-4f74-8402-3e56f6c64e04"
   },
   "execution_count": 22,
   "outputs": [
    {
     "output_type": "stream",
     "name": "stdout",
     "text": [
      "Looking in indexes: https://pypi.org/simple, https://us-python.pkg.dev/colab-wheels/public/simple/\n",
      "Requirement already satisfied: adversarial-robustness-toolbox in /usr/local/lib/python3.9/dist-packages (1.14.0)\n",
      "Requirement already satisfied: setuptools in /usr/local/lib/python3.9/dist-packages (from adversarial-robustness-toolbox) (67.6.1)\n",
      "Requirement already satisfied: scikit-learn<1.2.0,>=0.22.2 in /usr/local/lib/python3.9/dist-packages (from adversarial-robustness-toolbox) (1.1.3)\n",
      "Requirement already satisfied: numpy>=1.18.0 in /usr/local/lib/python3.9/dist-packages (from adversarial-robustness-toolbox) (1.22.4)\n",
      "Requirement already satisfied: six in /usr/local/lib/python3.9/dist-packages (from adversarial-robustness-toolbox) (1.16.0)\n",
      "Requirement already satisfied: tqdm in /usr/local/lib/python3.9/dist-packages (from adversarial-robustness-toolbox) (4.65.0)\n",
      "Requirement already satisfied: scipy>=1.4.1 in /usr/local/lib/python3.9/dist-packages (from adversarial-robustness-toolbox) (1.10.1)\n",
      "Requirement already satisfied: joblib>=1.0.0 in /usr/local/lib/python3.9/dist-packages (from scikit-learn<1.2.0,>=0.22.2->adversarial-robustness-toolbox) (1.1.1)\n",
      "Requirement already satisfied: threadpoolctl>=2.0.0 in /usr/local/lib/python3.9/dist-packages (from scikit-learn<1.2.0,>=0.22.2->adversarial-robustness-toolbox) (3.1.0)\n"
     ]
    }
   ]
  },
  {
   "cell_type": "code",
   "source": [
    "import time\n",
    "import numpy as np \n",
    "import torch.nn as nn \n",
    "from datetime import datetime\n",
    "\n",
    "from PIL import Image\n",
    "from torchvision import transforms\n",
    "import torchvision\n",
    "import torch\n",
    "from torchvision import datasets, transforms\n",
    "import torch.optim as optim\n",
    "import torchvision.models as models\n",
    "import matplotlib.pyplot as plt \n",
    "\n",
    "from art.estimators.classification import PyTorchClassifier\n",
    "from skimage.metrics import structural_similarity as ssim\n",
    "\n",
    "import warnings\n",
    "warnings.filterwarnings('ignore') \n",
    "import torch\n",
    "\n",
    "from sklearn.datasets import fetch_lfw_people\n",
    "from torch.utils.data import DataLoader, TensorDataset\n",
    "from sklearn.model_selection import train_test_split\n",
    "from sklearn.model_selection import RandomizedSearchCV\n",
    "from sklearn.datasets import fetch_lfw_people\n",
    "from sklearn.metrics import classification_report\n",
    "from sklearn.metrics import ConfusionMatrixDisplay\n",
    "from sklearn.preprocessing import StandardScaler\n",
    "from sklearn.decomposition import PCA\n",
    "from sklearn.svm import SVC\n",
    "from sklearn.utils.fixes import loguniform"
   ],
   "metadata": {
    "id": "6gD-wahqzvHf"
   },
   "execution_count": 23,
   "outputs": []
  },
  {
   "cell_type": "code",
   "source": [
    "lfw_people = fetch_lfw_people(min_faces_per_person=70, resize=0.4)"
   ],
   "metadata": {
    "id": "_h7CPsHu1wtS"
   },
   "execution_count": 24,
   "outputs": []
  },
  {
   "cell_type": "code",
   "source": [
    "# introspect the images arrays to find the shapes (for plotting)\n",
    "n_samples, h, w = lfw_people.images.shape\n",
    "\n",
    "# for machine learning we use the 2 data directly (as relative pixel\n",
    "# positions info is ignored by this model)\n",
    "X = lfw_people.data\n",
    "n_features = X.shape[1]\n",
    "\n",
    "# the label to predict is the id of the person\n",
    "y = lfw_people.target\n",
    "target_names = lfw_people.target_names\n",
    "n_classes = target_names.shape[0]\n",
    "\n",
    "print(\"Total dataset size:\")\n",
    "print(\"n_samples: %d\" % n_samples)\n",
    "print(\"n_features: %d\" % n_features)\n",
    "print(\"n_classes: %d\" % n_classes)"
   ],
   "metadata": {
    "colab": {
     "base_uri": "https://localhost:8080/"
    },
    "id": "PYuJYJEgtEvi",
    "outputId": "f0906ac5-b74a-49dd-cddf-3181b017bfd2"
   },
   "execution_count": 25,
   "outputs": [
    {
     "output_type": "stream",
     "name": "stdout",
     "text": [
      "Total dataset size:\n",
      "n_samples: 1288\n",
      "n_features: 1850\n",
      "n_classes: 7\n"
     ]
    }
   ]
  },
  {
   "cell_type": "code",
   "source": [
    "X_train, X_test, y_train, y_test = train_test_split(\n",
    "    X, y, test_size=0.25, random_state=42\n",
    ")\n",
    "\n",
    "scaler = StandardScaler()\n",
    "X_train = scaler.fit_transform(X_train)\n",
    "X_test = scaler.transform(X_test)"
   ],
   "metadata": {
    "id": "-fkMblDILZ3n"
   },
   "execution_count": 26,
   "outputs": []
  },
  {
   "cell_type": "code",
   "source": [
    "n_components = 150\n",
    "\n",
    "print(\n",
    "    \"Extracting the top %d eigenfaces from %d faces\" % (n_components, X_train.shape[0])\n",
    ")\n",
    "t0 = time.time()\n",
    "pca = PCA(n_components=n_components, svd_solver=\"randomized\", whiten=True).fit(X_train)\n",
    "print(\"done in %0.3fs\" % (time.time() - t0))\n",
    "\n",
    "eigenfaces = pca.components_.reshape((n_components, h, w))\n",
    "\n",
    "print(\"Projecting the input data on the eigenfaces orthonormal basis\")\n",
    "t0 = time.time()\n",
    "\n",
    "X_train_pca = torch.Tensor(pca.transform(X_train))\n",
    "X_test_pca = torch.Tensor(pca.transform(X_test))\n",
    "\n",
    "\n",
    "# scaler = StandardScaler()\n",
    "# X_train_pca = scaler.fit_transform(X_train_pca)\n",
    "# X_test_pca = scaler.transform(X_test_pca)\n",
    "\n",
    "\n",
    "# X_train_pca = torch.Tensor(X_train_pca)\n",
    "# X_test_pca = torch.Tensor(X_test_pca)\n",
    "\n",
    "print(\"done in %0.3fs\" % (time.time() - t0))"
   ],
   "metadata": {
    "id": "HOyZxRmgz0r-",
    "colab": {
     "base_uri": "https://localhost:8080/"
    },
    "outputId": "78887a0b-ff95-42d8-e357-2158696259ea"
   },
   "execution_count": 67,
   "outputs": [
    {
     "output_type": "stream",
     "name": "stdout",
     "text": [
      "Extracting the top 150 eigenfaces from 966 faces\n",
      "done in 0.915s\n",
      "Projecting the input data on the eigenfaces orthonormal basis\n",
      "done in 0.086s\n"
     ]
    }
   ]
  },
  {
   "cell_type": "code",
   "source": [
    "(n_components, h, w)"
   ],
   "metadata": {
    "colab": {
     "base_uri": "https://localhost:8080/"
    },
    "id": "x_6DGZ5XYzVx",
    "outputId": "e996c9fc-df37-4fd8-8989-2a91c33c1acf"
   },
   "execution_count": 68,
   "outputs": [
    {
     "output_type": "execute_result",
     "data": {
      "text/plain": [
       "(150, 50, 37)"
      ]
     },
     "metadata": {},
     "execution_count": 68
    }
   ]
  },
  {
   "cell_type": "code",
   "source": [
    "X_train_pca.shape"
   ],
   "metadata": {
    "colab": {
     "base_uri": "https://localhost:8080/"
    },
    "id": "IWc_5dix8ic0",
    "outputId": "e1816cb8-3abd-451b-b977-f84632943c12"
   },
   "execution_count": 69,
   "outputs": [
    {
     "output_type": "execute_result",
     "data": {
      "text/plain": [
       "torch.Size([966, 150])"
      ]
     },
     "metadata": {},
     "execution_count": 69
    }
   ]
  },
  {
   "cell_type": "code",
   "source": [
    "# create dataset and dataloader\n",
    "batch_size = 64\n",
    "\n",
    "train_loader = torch.utils.data.DataLoader(\n",
    "    torch.utils.data.TensorDataset(\n",
    "        torch.from_dlpack(X_train_pca).float(),\n",
    "        torch.from_dlpack(y_train).long()\n",
    "    ),\n",
    "    batch_size=batch_size,\n",
    "    shuffle=True\n",
    ")\n",
    "test_loader = torch.utils.data.DataLoader(\n",
    "    torch.utils.data.TensorDataset(\n",
    "        torch.from_dlpack(X_test_pca).float(),\n",
    "        torch.from_dlpack(y_test).long()\n",
    "    ),\n",
    "    batch_size=batch_size,\n",
    "    shuffle=False\n",
    ")"
   ],
   "metadata": {
    "id": "hBaPb1s175nd"
   },
   "execution_count": 70,
   "outputs": []
  },
  {
   "cell_type": "code",
   "source": [
    "device = torch.device(\"cuda\" if torch.cuda.is_available() else \"cpu\")\n",
    "model = nn.Sequential(\n",
    "    nn.Linear(n_components, 2048),\n",
    "    nn.ReLU(),\n",
    "    nn.Linear(2048, 2048),\n",
    "    nn.ReLU(),\n",
    "    nn.Linear(2048, n_classes),\n",
    "    nn.LogSoftmax(dim=1)\n",
    ")\n",
    "model = model.to(device)\n",
    "optimizer = torch.optim.SGD(model.parameters(), lr=0.001, momentum=0.9)\n",
    "criterion = nn.NLLLoss()"
   ],
   "metadata": {
    "id": "WMvPr82g8yHT"
   },
   "execution_count": 31,
   "outputs": []
  },
  {
   "cell_type": "code",
   "source": [
    "# model.load_state_dict(torch.load('custop_model_85.ckpt'))"
   ],
   "metadata": {
    "id": "m-GEvP6N8lQL"
   },
   "execution_count": 32,
   "outputs": []
  },
  {
   "cell_type": "code",
   "source": [
    "epoch=1\n",
    "model.train()\n",
    "for batch_idx, (data, target) in enumerate(train_loader):\n",
    "    data, target = data.to(device), target.to(device)\n",
    "    print(batch_idx, (data.shape, target.shape))\n",
    "    optimizer.zero_grad()\n",
    "    output = model(data)\n",
    "    print(output.shape, target.shape)\n",
    "    print(\"\\t\", output[0])\n",
    "    loss = criterion(output, target)\n",
    "    loss.backward()\n",
    "    optimizer.step()\n",
    "    # if batch_idx % 10 == 0:\n",
    "    #     print('Train Epoch: {} [{}/{} ({:.0f}%)]\\tLoss: {:.6f}'.format(\n",
    "    #         epoch, batch_idx * len(data), len(train_loader.dataset),\n",
    "    #         100. * batch_idx / len(train_loader), loss.item()))"
   ],
   "metadata": {
    "id": "nPa7R7oUXYjm"
   },
   "execution_count": null,
   "outputs": []
  },
  {
   "cell_type": "code",
   "source": [
    "def train(model, device, train_loader, optimizer, epoch):\n",
    "    model.train()\n",
    "    for batch_idx, (data, target) in enumerate(train_loader):\n",
    "        data, target = data.to(device), target.to(device)\n",
    "        print(batch_idx, (data.shape, target.shape))\n",
    "        optimizer.zero_grad()\n",
    "        output = model(data)\n",
    "        loss = criterion(output, target)\n",
    "        loss.backward()\n",
    "        optimizer.step()\n",
    "        if batch_idx % 10 == 0:\n",
    "            print('Train Epoch: {} [{}/{} ({:.0f}%)]\\tLoss: {:.6f}'.format(\n",
    "                epoch, batch_idx * len(data), len(train_loader.dataset),\n",
    "                100. * batch_idx / len(train_loader), loss.item()))\n",
    "            \n",
    "def test(model, device, test_loader):\n",
    "    model.eval()\n",
    "    test_loss = 0\n",
    "    correct = 0\n",
    "    with torch.no_grad():\n",
    "        for data, target in test_loader:\n",
    "            data, target = data.to(device), target.to(device)\n",
    "            output = model(data)\n",
    "            test_loss += criterion(output, target).item()\n",
    "            pred = output.data.max(1, keepdim=True)[1]\n",
    "            correct += pred.eq(target.data.view_as(pred)).sum()\n",
    "    test_loss /= len(test_loader.dataset)\n",
    "    print('\\nTest set: Average loss: {:.4f}, Accuracy: {}/{} ({:.0f}%)\\n'.format(\n",
    "        test_loss, correct, len(test_loader.dataset),\n",
    "        100. * correct / len(test_loader.dataset)))"
   ],
   "metadata": {
    "id": "zX3CCLdt8KZT"
   },
   "execution_count": 34,
   "outputs": []
  },
  {
   "cell_type": "code",
   "source": [
    "epochs = 10\n",
    "for epoch in range(1, epochs + 1):\n",
    "    train(model, device, train_loader, optimizer, epoch)\n",
    "    test(model, device, test_loader)"
   ],
   "metadata": {
    "colab": {
     "base_uri": "https://localhost:8080/"
    },
    "id": "qW55131B8Krg",
    "outputId": "f75b13a2-2e7d-4460-8594-92f6dd267cb9"
   },
   "execution_count": 35,
   "outputs": [
    {
     "output_type": "stream",
     "name": "stdout",
     "text": [
      "0 (torch.Size([64, 150]), torch.Size([64]))\n",
      "Train Epoch: 1 [0/966 (0%)]\tLoss: 1.754302\n",
      "1 (torch.Size([64, 150]), torch.Size([64]))\n",
      "2 (torch.Size([64, 150]), torch.Size([64]))\n",
      "3 (torch.Size([64, 150]), torch.Size([64]))\n",
      "4 (torch.Size([64, 150]), torch.Size([64]))\n",
      "5 (torch.Size([64, 150]), torch.Size([64]))\n",
      "6 (torch.Size([64, 150]), torch.Size([64]))\n",
      "7 (torch.Size([64, 150]), torch.Size([64]))\n",
      "8 (torch.Size([64, 150]), torch.Size([64]))\n",
      "9 (torch.Size([64, 150]), torch.Size([64]))\n",
      "10 (torch.Size([64, 150]), torch.Size([64]))\n",
      "Train Epoch: 1 [640/966 (62%)]\tLoss: 1.701007\n",
      "11 (torch.Size([64, 150]), torch.Size([64]))\n",
      "12 (torch.Size([64, 150]), torch.Size([64]))\n",
      "13 (torch.Size([64, 150]), torch.Size([64]))\n",
      "14 (torch.Size([64, 150]), torch.Size([64]))\n",
      "15 (torch.Size([6, 150]), torch.Size([6]))\n",
      "\n",
      "Test set: Average loss: 0.0322, Accuracy: 146/322 (45%)\n",
      "\n",
      "0 (torch.Size([64, 150]), torch.Size([64]))\n",
      "Train Epoch: 2 [0/966 (0%)]\tLoss: 1.883963\n",
      "1 (torch.Size([64, 150]), torch.Size([64]))\n",
      "2 (torch.Size([64, 150]), torch.Size([64]))\n",
      "3 (torch.Size([64, 150]), torch.Size([64]))\n",
      "4 (torch.Size([64, 150]), torch.Size([64]))\n",
      "5 (torch.Size([64, 150]), torch.Size([64]))\n",
      "6 (torch.Size([64, 150]), torch.Size([64]))\n",
      "7 (torch.Size([64, 150]), torch.Size([64]))\n",
      "8 (torch.Size([64, 150]), torch.Size([64]))\n",
      "9 (torch.Size([64, 150]), torch.Size([64]))\n",
      "10 (torch.Size([64, 150]), torch.Size([64]))\n",
      "Train Epoch: 2 [640/966 (62%)]\tLoss: 1.690989\n",
      "11 (torch.Size([64, 150]), torch.Size([64]))\n",
      "12 (torch.Size([64, 150]), torch.Size([64]))\n",
      "13 (torch.Size([64, 150]), torch.Size([64]))\n",
      "14 (torch.Size([64, 150]), torch.Size([64]))\n",
      "15 (torch.Size([6, 150]), torch.Size([6]))\n",
      "\n",
      "Test set: Average loss: 0.0319, Accuracy: 146/322 (45%)\n",
      "\n",
      "0 (torch.Size([64, 150]), torch.Size([64]))\n",
      "Train Epoch: 3 [0/966 (0%)]\tLoss: 1.695680\n",
      "1 (torch.Size([64, 150]), torch.Size([64]))\n",
      "2 (torch.Size([64, 150]), torch.Size([64]))\n",
      "3 (torch.Size([64, 150]), torch.Size([64]))\n",
      "4 (torch.Size([64, 150]), torch.Size([64]))\n",
      "5 (torch.Size([64, 150]), torch.Size([64]))\n",
      "6 (torch.Size([64, 150]), torch.Size([64]))\n",
      "7 (torch.Size([64, 150]), torch.Size([64]))\n",
      "8 (torch.Size([64, 150]), torch.Size([64]))\n",
      "9 (torch.Size([64, 150]), torch.Size([64]))\n",
      "10 (torch.Size([64, 150]), torch.Size([64]))\n",
      "Train Epoch: 3 [640/966 (62%)]\tLoss: 1.769833\n",
      "11 (torch.Size([64, 150]), torch.Size([64]))\n",
      "12 (torch.Size([64, 150]), torch.Size([64]))\n",
      "13 (torch.Size([64, 150]), torch.Size([64]))\n",
      "14 (torch.Size([64, 150]), torch.Size([64]))\n",
      "15 (torch.Size([6, 150]), torch.Size([6]))\n",
      "\n",
      "Test set: Average loss: 0.0316, Accuracy: 146/322 (45%)\n",
      "\n",
      "0 (torch.Size([64, 150]), torch.Size([64]))\n",
      "Train Epoch: 4 [0/966 (0%)]\tLoss: 1.525437\n",
      "1 (torch.Size([64, 150]), torch.Size([64]))\n",
      "2 (torch.Size([64, 150]), torch.Size([64]))\n",
      "3 (torch.Size([64, 150]), torch.Size([64]))\n",
      "4 (torch.Size([64, 150]), torch.Size([64]))\n",
      "5 (torch.Size([64, 150]), torch.Size([64]))\n",
      "6 (torch.Size([64, 150]), torch.Size([64]))\n",
      "7 (torch.Size([64, 150]), torch.Size([64]))\n",
      "8 (torch.Size([64, 150]), torch.Size([64]))\n",
      "9 (torch.Size([64, 150]), torch.Size([64]))\n",
      "10 (torch.Size([64, 150]), torch.Size([64]))\n",
      "Train Epoch: 4 [640/966 (62%)]\tLoss: 1.767957\n",
      "11 (torch.Size([64, 150]), torch.Size([64]))\n",
      "12 (torch.Size([64, 150]), torch.Size([64]))\n",
      "13 (torch.Size([64, 150]), torch.Size([64]))\n",
      "14 (torch.Size([64, 150]), torch.Size([64]))\n",
      "15 (torch.Size([6, 150]), torch.Size([6]))\n",
      "\n",
      "Test set: Average loss: 0.0312, Accuracy: 146/322 (45%)\n",
      "\n",
      "0 (torch.Size([64, 150]), torch.Size([64]))\n",
      "Train Epoch: 5 [0/966 (0%)]\tLoss: 1.650159\n",
      "1 (torch.Size([64, 150]), torch.Size([64]))\n",
      "2 (torch.Size([64, 150]), torch.Size([64]))\n",
      "3 (torch.Size([64, 150]), torch.Size([64]))\n",
      "4 (torch.Size([64, 150]), torch.Size([64]))\n",
      "5 (torch.Size([64, 150]), torch.Size([64]))\n",
      "6 (torch.Size([64, 150]), torch.Size([64]))\n",
      "7 (torch.Size([64, 150]), torch.Size([64]))\n",
      "8 (torch.Size([64, 150]), torch.Size([64]))\n",
      "9 (torch.Size([64, 150]), torch.Size([64]))\n",
      "10 (torch.Size([64, 150]), torch.Size([64]))\n",
      "Train Epoch: 5 [640/966 (62%)]\tLoss: 1.531187\n",
      "11 (torch.Size([64, 150]), torch.Size([64]))\n",
      "12 (torch.Size([64, 150]), torch.Size([64]))\n",
      "13 (torch.Size([64, 150]), torch.Size([64]))\n",
      "14 (torch.Size([64, 150]), torch.Size([64]))\n",
      "15 (torch.Size([6, 150]), torch.Size([6]))\n",
      "\n",
      "Test set: Average loss: 0.0308, Accuracy: 146/322 (45%)\n",
      "\n",
      "0 (torch.Size([64, 150]), torch.Size([64]))\n",
      "Train Epoch: 6 [0/966 (0%)]\tLoss: 1.536966\n",
      "1 (torch.Size([64, 150]), torch.Size([64]))\n",
      "2 (torch.Size([64, 150]), torch.Size([64]))\n",
      "3 (torch.Size([64, 150]), torch.Size([64]))\n",
      "4 (torch.Size([64, 150]), torch.Size([64]))\n",
      "5 (torch.Size([64, 150]), torch.Size([64]))\n",
      "6 (torch.Size([64, 150]), torch.Size([64]))\n",
      "7 (torch.Size([64, 150]), torch.Size([64]))\n",
      "8 (torch.Size([64, 150]), torch.Size([64]))\n",
      "9 (torch.Size([64, 150]), torch.Size([64]))\n",
      "10 (torch.Size([64, 150]), torch.Size([64]))\n",
      "Train Epoch: 6 [640/966 (62%)]\tLoss: 1.727030\n",
      "11 (torch.Size([64, 150]), torch.Size([64]))\n",
      "12 (torch.Size([64, 150]), torch.Size([64]))\n",
      "13 (torch.Size([64, 150]), torch.Size([64]))\n",
      "14 (torch.Size([64, 150]), torch.Size([64]))\n",
      "15 (torch.Size([6, 150]), torch.Size([6]))\n",
      "\n",
      "Test set: Average loss: 0.0305, Accuracy: 146/322 (45%)\n",
      "\n",
      "0 (torch.Size([64, 150]), torch.Size([64]))\n",
      "Train Epoch: 7 [0/966 (0%)]\tLoss: 1.521131\n",
      "1 (torch.Size([64, 150]), torch.Size([64]))\n",
      "2 (torch.Size([64, 150]), torch.Size([64]))\n",
      "3 (torch.Size([64, 150]), torch.Size([64]))\n",
      "4 (torch.Size([64, 150]), torch.Size([64]))\n",
      "5 (torch.Size([64, 150]), torch.Size([64]))\n",
      "6 (torch.Size([64, 150]), torch.Size([64]))\n",
      "7 (torch.Size([64, 150]), torch.Size([64]))\n",
      "8 (torch.Size([64, 150]), torch.Size([64]))\n",
      "9 (torch.Size([64, 150]), torch.Size([64]))\n",
      "10 (torch.Size([64, 150]), torch.Size([64]))\n",
      "Train Epoch: 7 [640/966 (62%)]\tLoss: 1.497931\n",
      "11 (torch.Size([64, 150]), torch.Size([64]))\n",
      "12 (torch.Size([64, 150]), torch.Size([64]))\n",
      "13 (torch.Size([64, 150]), torch.Size([64]))\n",
      "14 (torch.Size([64, 150]), torch.Size([64]))\n",
      "15 (torch.Size([6, 150]), torch.Size([6]))\n",
      "\n",
      "Test set: Average loss: 0.0301, Accuracy: 146/322 (45%)\n",
      "\n",
      "0 (torch.Size([64, 150]), torch.Size([64]))\n",
      "Train Epoch: 8 [0/966 (0%)]\tLoss: 1.475155\n",
      "1 (torch.Size([64, 150]), torch.Size([64]))\n",
      "2 (torch.Size([64, 150]), torch.Size([64]))\n",
      "3 (torch.Size([64, 150]), torch.Size([64]))\n",
      "4 (torch.Size([64, 150]), torch.Size([64]))\n",
      "5 (torch.Size([64, 150]), torch.Size([64]))\n",
      "6 (torch.Size([64, 150]), torch.Size([64]))\n",
      "7 (torch.Size([64, 150]), torch.Size([64]))\n",
      "8 (torch.Size([64, 150]), torch.Size([64]))\n",
      "9 (torch.Size([64, 150]), torch.Size([64]))\n",
      "10 (torch.Size([64, 150]), torch.Size([64]))\n",
      "Train Epoch: 8 [640/966 (62%)]\tLoss: 1.490682\n",
      "11 (torch.Size([64, 150]), torch.Size([64]))\n",
      "12 (torch.Size([64, 150]), torch.Size([64]))\n",
      "13 (torch.Size([64, 150]), torch.Size([64]))\n",
      "14 (torch.Size([64, 150]), torch.Size([64]))\n",
      "15 (torch.Size([6, 150]), torch.Size([6]))\n",
      "\n",
      "Test set: Average loss: 0.0296, Accuracy: 152/322 (47%)\n",
      "\n",
      "0 (torch.Size([64, 150]), torch.Size([64]))\n",
      "Train Epoch: 9 [0/966 (0%)]\tLoss: 1.454253\n",
      "1 (torch.Size([64, 150]), torch.Size([64]))\n",
      "2 (torch.Size([64, 150]), torch.Size([64]))\n",
      "3 (torch.Size([64, 150]), torch.Size([64]))\n",
      "4 (torch.Size([64, 150]), torch.Size([64]))\n",
      "5 (torch.Size([64, 150]), torch.Size([64]))\n",
      "6 (torch.Size([64, 150]), torch.Size([64]))\n",
      "7 (torch.Size([64, 150]), torch.Size([64]))\n",
      "8 (torch.Size([64, 150]), torch.Size([64]))\n",
      "9 (torch.Size([64, 150]), torch.Size([64]))\n",
      "10 (torch.Size([64, 150]), torch.Size([64]))\n",
      "Train Epoch: 9 [640/966 (62%)]\tLoss: 1.493180\n",
      "11 (torch.Size([64, 150]), torch.Size([64]))\n",
      "12 (torch.Size([64, 150]), torch.Size([64]))\n",
      "13 (torch.Size([64, 150]), torch.Size([64]))\n",
      "14 (torch.Size([64, 150]), torch.Size([64]))\n",
      "15 (torch.Size([6, 150]), torch.Size([6]))\n",
      "\n",
      "Test set: Average loss: 0.0291, Accuracy: 160/322 (50%)\n",
      "\n",
      "0 (torch.Size([64, 150]), torch.Size([64]))\n",
      "Train Epoch: 10 [0/966 (0%)]\tLoss: 1.375814\n",
      "1 (torch.Size([64, 150]), torch.Size([64]))\n",
      "2 (torch.Size([64, 150]), torch.Size([64]))\n",
      "3 (torch.Size([64, 150]), torch.Size([64]))\n",
      "4 (torch.Size([64, 150]), torch.Size([64]))\n",
      "5 (torch.Size([64, 150]), torch.Size([64]))\n",
      "6 (torch.Size([64, 150]), torch.Size([64]))\n",
      "7 (torch.Size([64, 150]), torch.Size([64]))\n",
      "8 (torch.Size([64, 150]), torch.Size([64]))\n",
      "9 (torch.Size([64, 150]), torch.Size([64]))\n",
      "10 (torch.Size([64, 150]), torch.Size([64]))\n",
      "Train Epoch: 10 [640/966 (62%)]\tLoss: 1.467338\n",
      "11 (torch.Size([64, 150]), torch.Size([64]))\n",
      "12 (torch.Size([64, 150]), torch.Size([64]))\n",
      "13 (torch.Size([64, 150]), torch.Size([64]))\n",
      "14 (torch.Size([64, 150]), torch.Size([64]))\n",
      "15 (torch.Size([6, 150]), torch.Size([6]))\n",
      "\n",
      "Test set: Average loss: 0.0285, Accuracy: 159/322 (49%)\n",
      "\n"
     ]
    }
   ]
  },
  {
   "cell_type": "markdown",
   "source": [
    "# Adversarial part"
   ],
   "metadata": {
    "id": "9gW6pphH9ryx"
   }
  },
  {
   "cell_type": "code",
   "source": [
    "!pip install torchattacks==3.3.0"
   ],
   "metadata": {
    "colab": {
     "base_uri": "https://localhost:8080/"
    },
    "id": "tJTzm0dR9rXM",
    "outputId": "b8408a13-3ac6-4176-db38-59dfb485c0d2"
   },
   "execution_count": 36,
   "outputs": [
    {
     "output_type": "stream",
     "name": "stdout",
     "text": [
      "Looking in indexes: https://pypi.org/simple, https://us-python.pkg.dev/colab-wheels/public/simple/\n",
      "Requirement already satisfied: torchattacks in /usr/local/lib/python3.9/dist-packages (3.4.0)\n",
      "Requirement already satisfied: torchvision>=0.8.2 in /usr/local/lib/python3.9/dist-packages (from torchattacks) (0.15.1+cu118)\n",
      "Requirement already satisfied: numpy>=1.19.4 in /usr/local/lib/python3.9/dist-packages (from torchattacks) (1.22.4)\n",
      "Requirement already satisfied: tqdm>=4.56.1 in /usr/local/lib/python3.9/dist-packages (from torchattacks) (4.65.0)\n",
      "Requirement already satisfied: torch>=1.7.1 in /usr/local/lib/python3.9/dist-packages (from torchattacks) (2.0.0+cu118)\n",
      "Requirement already satisfied: requests~=2.25.1 in /usr/local/lib/python3.9/dist-packages (from torchattacks) (2.25.1)\n",
      "Requirement already satisfied: scipy>=0.14.0 in /usr/local/lib/python3.9/dist-packages (from torchattacks) (1.10.1)\n",
      "Requirement already satisfied: idna<3,>=2.5 in /usr/local/lib/python3.9/dist-packages (from requests~=2.25.1->torchattacks) (2.10)\n",
      "Requirement already satisfied: chardet<5,>=3.0.2 in /usr/local/lib/python3.9/dist-packages (from requests~=2.25.1->torchattacks) (4.0.0)\n",
      "Requirement already satisfied: certifi>=2017.4.17 in /usr/local/lib/python3.9/dist-packages (from requests~=2.25.1->torchattacks) (2022.12.7)\n",
      "Requirement already satisfied: urllib3<1.27,>=1.21.1 in /usr/local/lib/python3.9/dist-packages (from requests~=2.25.1->torchattacks) (1.26.15)\n",
      "Requirement already satisfied: triton==2.0.0 in /usr/local/lib/python3.9/dist-packages (from torch>=1.7.1->torchattacks) (2.0.0)\n",
      "Requirement already satisfied: sympy in /usr/local/lib/python3.9/dist-packages (from torch>=1.7.1->torchattacks) (1.11.1)\n",
      "Requirement already satisfied: filelock in /usr/local/lib/python3.9/dist-packages (from torch>=1.7.1->torchattacks) (3.10.7)\n",
      "Requirement already satisfied: networkx in /usr/local/lib/python3.9/dist-packages (from torch>=1.7.1->torchattacks) (3.0)\n",
      "Requirement already satisfied: typing-extensions in /usr/local/lib/python3.9/dist-packages (from torch>=1.7.1->torchattacks) (4.5.0)\n",
      "Requirement already satisfied: jinja2 in /usr/local/lib/python3.9/dist-packages (from torch>=1.7.1->torchattacks) (3.1.2)\n",
      "Requirement already satisfied: lit in /usr/local/lib/python3.9/dist-packages (from triton==2.0.0->torch>=1.7.1->torchattacks) (16.0.0)\n",
      "Requirement already satisfied: cmake in /usr/local/lib/python3.9/dist-packages (from triton==2.0.0->torch>=1.7.1->torchattacks) (3.25.2)\n",
      "Requirement already satisfied: pillow!=8.3.*,>=5.3.0 in /usr/local/lib/python3.9/dist-packages (from torchvision>=0.8.2->torchattacks) (8.4.0)\n",
      "Requirement already satisfied: MarkupSafe>=2.0 in /usr/local/lib/python3.9/dist-packages (from jinja2->torch>=1.7.1->torchattacks) (2.1.2)\n",
      "Requirement already satisfied: mpmath>=0.19 in /usr/local/lib/python3.9/dist-packages (from sympy->torch>=1.7.1->torchattacks) (1.3.0)\n"
     ]
    }
   ]
  },
  {
   "cell_type": "code",
   "source": [
    "import torchattacks"
   ],
   "metadata": {
    "id": "biJ-MnqE9rPY"
   },
   "execution_count": 37,
   "outputs": []
  },
  {
   "cell_type": "code",
   "source": [
    "class Attack:\n",
    "    def __init__(self, model, device, attack_type):\n",
    "        self.model = model\n",
    "        self.device = device\n",
    "        self.attack_type = attack_type\n",
    "        self.attack = None\n",
    "\n",
    "    def __call__(self, x, y):\n",
    "        if self.attack_type == 'FGSM':\n",
    "            self.attack = torchattacks.FGSM(self.model, eps=8/255)\n",
    "        elif self.attack_type == 'PGD':\n",
    "            self.attack = torchattacks.PGD(self.model, eps=8/255, alpha=2/255, steps=25)\n",
    "        elif self.attack_type == 'CW':\n",
    "            self.attack = torchattacks.CW(self.model, c=1, kappa=0, steps=25, lr=0.01)\n",
    "        elif self.attack_type == 'DeepFool':\n",
    "            self.attack = torchattacks.DeepFool(self.model, steps=25, overshoot=0.02)\n",
    "        elif self.attack_type == 'BIM':\n",
    "            self.attack = torchattacks.BIM(self.model, eps=8/255, alpha=2/255, steps=25)\n",
    "        elif self.attack_type == 'RFGSM':\n",
    "            self.attack = torchattacks.RFGSM(self.model, eps=8/255, alpha=2/255, steps=25)\n",
    "\n",
    "        x_adv = self.attack(x, y)\n",
    "        return x_adv"
   ],
   "metadata": {
    "id": "8BpeaXz9-OAl"
   },
   "execution_count": 38,
   "outputs": []
  },
  {
   "cell_type": "code",
   "source": [
    "test_loader_adv = torch.utils.data.DataLoader(\n",
    "    torch.utils.data.TensorDataset(\n",
    "        torch.from_dlpack(x_adv).float(),\n",
    "        torch.from_dlpack(y_train).long()\n",
    "    ),\n",
    "    batch_size=batch_size,\n",
    "    shuffle=False\n",
    ")"
   ],
   "metadata": {
    "id": "gOzZJDlZ5J_W",
    "colab": {
     "base_uri": "https://localhost:8080/",
     "height": 258
    },
    "outputId": "1919268a-261d-4cbe-9e0a-cf3792531c8b"
   },
   "execution_count": 39,
   "outputs": [
    {
     "output_type": "error",
     "ename": "NameError",
     "evalue": "ignored",
     "traceback": [
      "\u001B[0;31m---------------------------------------------------------------------------\u001B[0m",
      "\u001B[0;31mNameError\u001B[0m                                 Traceback (most recent call last)",
      "\u001B[0;32m<ipython-input-39-0f83052c5330>\u001B[0m in \u001B[0;36m<cell line: 1>\u001B[0;34m()\u001B[0m\n\u001B[1;32m      1\u001B[0m test_loader_adv = torch.utils.data.DataLoader(\n\u001B[1;32m      2\u001B[0m     torch.utils.data.TensorDataset(\n\u001B[0;32m----> 3\u001B[0;31m         \u001B[0mtorch\u001B[0m\u001B[0;34m.\u001B[0m\u001B[0mfrom_dlpack\u001B[0m\u001B[0;34m(\u001B[0m\u001B[0mx_adv\u001B[0m\u001B[0;34m)\u001B[0m\u001B[0;34m.\u001B[0m\u001B[0mfloat\u001B[0m\u001B[0;34m(\u001B[0m\u001B[0;34m)\u001B[0m\u001B[0;34m,\u001B[0m\u001B[0;34m\u001B[0m\u001B[0;34m\u001B[0m\u001B[0m\n\u001B[0m\u001B[1;32m      4\u001B[0m         \u001B[0mtorch\u001B[0m\u001B[0;34m.\u001B[0m\u001B[0mfrom_dlpack\u001B[0m\u001B[0;34m(\u001B[0m\u001B[0my_train\u001B[0m\u001B[0;34m)\u001B[0m\u001B[0;34m.\u001B[0m\u001B[0mlong\u001B[0m\u001B[0;34m(\u001B[0m\u001B[0;34m)\u001B[0m\u001B[0;34m\u001B[0m\u001B[0;34m\u001B[0m\u001B[0m\n\u001B[1;32m      5\u001B[0m     ),\n",
      "\u001B[0;31mNameError\u001B[0m: name 'x_adv' is not defined"
     ]
    }
   ]
  },
  {
   "cell_type": "code",
   "source": [
    "# attack\n",
    "def transform_data(X):\n",
    "    X_rescaled = (X - X.min()) / (X.max() - X.min())\n",
    "    X_rescaled = torch.clamp(X_rescaled, min=0, max=1)\n",
    "    # print(X_rescaled.numpy())\n",
    "    # .clone().detach().long()\n",
    "    return X_rescaled"
   ],
   "metadata": {
    "id": "KNYhc5a28S1S"
   },
   "execution_count": 65,
   "outputs": []
  },
  {
   "cell_type": "code",
   "source": [
    "def attack(model, device, method, loader) -> torch.Tensor:\n",
    "  attack = Attack(model, device, method)\n",
    "  x_adv = []\n",
    "  for batch_idx, (data, target) in enumerate(loader):\n",
    "      data, target = data.to(device), target.to(device)\n",
    "      x_adv.append(attack(data, target))\n",
    "  x_adv = torch.cat(x_adv, dim=0)\n",
    "  test_loader_adv = torch.utils.data.DataLoader(\n",
    "    torch.utils.data.TensorDataset(\n",
    "        torch.from_dlpack(x_adv).float(),\n",
    "        torch.from_dlpack(y_test).long()\n",
    "    ),\n",
    "    batch_size=batch_size,\n",
    "    shuffle=False\n",
    "  )\n",
    "  test(model, device, test_loader_adv)\n",
    "  return x_adv\n",
    "attack(model, device, \"FGSM\", test_loader)\n",
    "# attack(model, device, \"PGD\", test_loader)\n",
    "# attack(model, device, \"CW\", test_loader)\n",
    "# attack(model, device, \"DeepFool\", test_loader)\n",
    "# attack(model, device, \"BIM\", test_loader)\n",
    "# attack(model, device, \"RFGSM\", test_loader)"
   ],
   "metadata": {
    "id": "mFGQvVyW-UXG",
    "colab": {
     "base_uri": "https://localhost:8080/",
     "height": 416
    },
    "outputId": "4b7497e6-d148-4bc5-8459-93703ff19710"
   },
   "execution_count": 74,
   "outputs": [
    {
     "output_type": "error",
     "ename": "ValueError",
     "evalue": "ignored",
     "traceback": [
      "\u001B[0;31m---------------------------------------------------------------------------\u001B[0m",
      "\u001B[0;31mValueError\u001B[0m                                Traceback (most recent call last)",
      "\u001B[0;32m<ipython-input-74-c4c133e735ee>\u001B[0m in \u001B[0;36m<cell line: 24>\u001B[0;34m()\u001B[0m\n\u001B[1;32m     22\u001B[0m   \u001B[0mtest\u001B[0m\u001B[0;34m(\u001B[0m\u001B[0mmodel\u001B[0m\u001B[0;34m,\u001B[0m \u001B[0mdevice\u001B[0m\u001B[0;34m,\u001B[0m \u001B[0mtest_loader_adv\u001B[0m\u001B[0;34m)\u001B[0m\u001B[0;34m\u001B[0m\u001B[0;34m\u001B[0m\u001B[0m\n\u001B[1;32m     23\u001B[0m   \u001B[0;32mreturn\u001B[0m \u001B[0mx_adv\u001B[0m\u001B[0;34m\u001B[0m\u001B[0;34m\u001B[0m\u001B[0m\n\u001B[0;32m---> 24\u001B[0;31m \u001B[0mattack\u001B[0m\u001B[0;34m(\u001B[0m\u001B[0mmodel\u001B[0m\u001B[0;34m,\u001B[0m \u001B[0mdevice\u001B[0m\u001B[0;34m,\u001B[0m \u001B[0;34m\"FGSM\"\u001B[0m\u001B[0;34m,\u001B[0m \u001B[0mtest_loader\u001B[0m\u001B[0;34m)\u001B[0m\u001B[0;34m\u001B[0m\u001B[0;34m\u001B[0m\u001B[0m\n\u001B[0m\u001B[1;32m     25\u001B[0m \u001B[0;31m# attack(model, device, \"PGD\", test_loader)\u001B[0m\u001B[0;34m\u001B[0m\u001B[0;34m\u001B[0m\u001B[0m\n\u001B[1;32m     26\u001B[0m \u001B[0;31m# attack(model, device, \"CW\", test_loader)\u001B[0m\u001B[0;34m\u001B[0m\u001B[0;34m\u001B[0m\u001B[0m\n",
      "\u001B[0;32m<ipython-input-74-c4c133e735ee>\u001B[0m in \u001B[0;36mattack\u001B[0;34m(model, device, method, loader)\u001B[0m\n\u001B[1;32m     10\u001B[0m       \u001B[0;31m# x = x.clone().detach()\u001B[0m\u001B[0;34m\u001B[0m\u001B[0;34m\u001B[0m\u001B[0m\n\u001B[1;32m     11\u001B[0m       \u001B[0;31m# y = y.clone().detach()\u001B[0m\u001B[0;34m\u001B[0m\u001B[0;34m\u001B[0m\u001B[0m\n\u001B[0;32m---> 12\u001B[0;31m       \u001B[0mx_adv\u001B[0m\u001B[0;34m.\u001B[0m\u001B[0mappend\u001B[0m\u001B[0;34m(\u001B[0m\u001B[0mattack\u001B[0m\u001B[0;34m(\u001B[0m\u001B[0mdata\u001B[0m\u001B[0;34m,\u001B[0m \u001B[0mtarget\u001B[0m\u001B[0;34m)\u001B[0m\u001B[0;34m)\u001B[0m\u001B[0;34m\u001B[0m\u001B[0;34m\u001B[0m\u001B[0m\n\u001B[0m\u001B[1;32m     13\u001B[0m   \u001B[0mx_adv\u001B[0m \u001B[0;34m=\u001B[0m \u001B[0mtorch\u001B[0m\u001B[0;34m.\u001B[0m\u001B[0mcat\u001B[0m\u001B[0;34m(\u001B[0m\u001B[0mx_adv\u001B[0m\u001B[0;34m,\u001B[0m \u001B[0mdim\u001B[0m\u001B[0;34m=\u001B[0m\u001B[0;36m0\u001B[0m\u001B[0;34m)\u001B[0m\u001B[0;34m\u001B[0m\u001B[0;34m\u001B[0m\u001B[0m\n\u001B[1;32m     14\u001B[0m   test_loader_adv = torch.utils.data.DataLoader(\n",
      "\u001B[0;32m<ipython-input-38-7baf2932f8a0>\u001B[0m in \u001B[0;36m__call__\u001B[0;34m(self, x, y)\u001B[0m\n\u001B[1;32m     20\u001B[0m             \u001B[0mself\u001B[0m\u001B[0;34m.\u001B[0m\u001B[0mattack\u001B[0m \u001B[0;34m=\u001B[0m \u001B[0mtorchattacks\u001B[0m\u001B[0;34m.\u001B[0m\u001B[0mRFGSM\u001B[0m\u001B[0;34m(\u001B[0m\u001B[0mself\u001B[0m\u001B[0;34m.\u001B[0m\u001B[0mmodel\u001B[0m\u001B[0;34m,\u001B[0m \u001B[0meps\u001B[0m\u001B[0;34m=\u001B[0m\u001B[0;36m8\u001B[0m\u001B[0;34m/\u001B[0m\u001B[0;36m255\u001B[0m\u001B[0;34m,\u001B[0m \u001B[0malpha\u001B[0m\u001B[0;34m=\u001B[0m\u001B[0;36m2\u001B[0m\u001B[0;34m/\u001B[0m\u001B[0;36m255\u001B[0m\u001B[0;34m,\u001B[0m \u001B[0msteps\u001B[0m\u001B[0;34m=\u001B[0m\u001B[0;36m25\u001B[0m\u001B[0;34m)\u001B[0m\u001B[0;34m\u001B[0m\u001B[0;34m\u001B[0m\u001B[0m\n\u001B[1;32m     21\u001B[0m \u001B[0;34m\u001B[0m\u001B[0m\n\u001B[0;32m---> 22\u001B[0;31m         \u001B[0mx_adv\u001B[0m \u001B[0;34m=\u001B[0m \u001B[0mself\u001B[0m\u001B[0;34m.\u001B[0m\u001B[0mattack\u001B[0m\u001B[0;34m(\u001B[0m\u001B[0mx\u001B[0m\u001B[0;34m,\u001B[0m \u001B[0my\u001B[0m\u001B[0;34m)\u001B[0m\u001B[0;34m\u001B[0m\u001B[0;34m\u001B[0m\u001B[0m\n\u001B[0m\u001B[1;32m     23\u001B[0m         \u001B[0;32mreturn\u001B[0m \u001B[0mx_adv\u001B[0m\u001B[0;34m\u001B[0m\u001B[0;34m\u001B[0m\u001B[0m\n",
      "\u001B[0;32m/usr/local/lib/python3.9/dist-packages/torchattacks/attack.py\u001B[0m in \u001B[0;36m__call__\u001B[0;34m(self, inputs, labels, *args, **kwargs)\u001B[0m\n\u001B[1;32m    450\u001B[0m             \u001B[0mself\u001B[0m\u001B[0;34m.\u001B[0m\u001B[0m_set_normalization_applied\u001B[0m\u001B[0;34m(\u001B[0m\u001B[0;32mTrue\u001B[0m\u001B[0;34m)\u001B[0m\u001B[0;34m\u001B[0m\u001B[0;34m\u001B[0m\u001B[0m\n\u001B[1;32m    451\u001B[0m         \u001B[0;32melse\u001B[0m\u001B[0;34m:\u001B[0m\u001B[0;34m\u001B[0m\u001B[0;34m\u001B[0m\u001B[0m\n\u001B[0;32m--> 452\u001B[0;31m             \u001B[0madv_inputs\u001B[0m \u001B[0;34m=\u001B[0m \u001B[0mself\u001B[0m\u001B[0;34m.\u001B[0m\u001B[0mforward\u001B[0m\u001B[0;34m(\u001B[0m\u001B[0minputs\u001B[0m\u001B[0;34m,\u001B[0m \u001B[0mlabels\u001B[0m\u001B[0;34m,\u001B[0m \u001B[0;34m*\u001B[0m\u001B[0margs\u001B[0m\u001B[0;34m,\u001B[0m \u001B[0;34m**\u001B[0m\u001B[0mkwargs\u001B[0m\u001B[0;34m)\u001B[0m\u001B[0;34m\u001B[0m\u001B[0;34m\u001B[0m\u001B[0m\n\u001B[0m\u001B[1;32m    453\u001B[0m \u001B[0;34m\u001B[0m\u001B[0m\n\u001B[1;32m    454\u001B[0m         \u001B[0mself\u001B[0m\u001B[0;34m.\u001B[0m\u001B[0m_recover_model_mode\u001B[0m\u001B[0;34m(\u001B[0m\u001B[0mgiven_training\u001B[0m\u001B[0;34m)\u001B[0m\u001B[0;34m\u001B[0m\u001B[0;34m\u001B[0m\u001B[0m\n",
      "\u001B[0;32m/usr/local/lib/python3.9/dist-packages/torchattacks/attacks/fgsm.py\u001B[0m in \u001B[0;36mforward\u001B[0;34m(self, images, labels)\u001B[0m\n\u001B[1;32m     35\u001B[0m         \u001B[0mOverridden\u001B[0m\u001B[0;34m.\u001B[0m\u001B[0;34m\u001B[0m\u001B[0;34m\u001B[0m\u001B[0m\n\u001B[1;32m     36\u001B[0m         \"\"\"\n\u001B[0;32m---> 37\u001B[0;31m         \u001B[0mself\u001B[0m\u001B[0;34m.\u001B[0m\u001B[0m_check_inputs\u001B[0m\u001B[0;34m(\u001B[0m\u001B[0mimages\u001B[0m\u001B[0;34m)\u001B[0m\u001B[0;34m\u001B[0m\u001B[0;34m\u001B[0m\u001B[0m\n\u001B[0m\u001B[1;32m     38\u001B[0m \u001B[0;34m\u001B[0m\u001B[0m\n\u001B[1;32m     39\u001B[0m         \u001B[0mimages\u001B[0m \u001B[0;34m=\u001B[0m \u001B[0mimages\u001B[0m\u001B[0;34m.\u001B[0m\u001B[0mclone\u001B[0m\u001B[0;34m(\u001B[0m\u001B[0;34m)\u001B[0m\u001B[0;34m.\u001B[0m\u001B[0mdetach\u001B[0m\u001B[0;34m(\u001B[0m\u001B[0;34m)\u001B[0m\u001B[0;34m.\u001B[0m\u001B[0mto\u001B[0m\u001B[0;34m(\u001B[0m\u001B[0mself\u001B[0m\u001B[0;34m.\u001B[0m\u001B[0mdevice\u001B[0m\u001B[0;34m)\u001B[0m\u001B[0;34m\u001B[0m\u001B[0;34m\u001B[0m\u001B[0m\n",
      "\u001B[0;32m/usr/local/lib/python3.9/dist-packages/torchattacks/attack.py\u001B[0m in \u001B[0;36mwrapper_func\u001B[0;34m(self, *args, **kwargs)\u001B[0m\n\u001B[1;32m      9\u001B[0m \u001B[0;32mdef\u001B[0m \u001B[0mwrapper_method\u001B[0m\u001B[0;34m(\u001B[0m\u001B[0mfunc\u001B[0m\u001B[0;34m)\u001B[0m\u001B[0;34m:\u001B[0m\u001B[0;34m\u001B[0m\u001B[0;34m\u001B[0m\u001B[0m\n\u001B[1;32m     10\u001B[0m     \u001B[0;32mdef\u001B[0m \u001B[0mwrapper_func\u001B[0m\u001B[0;34m(\u001B[0m\u001B[0mself\u001B[0m\u001B[0;34m,\u001B[0m \u001B[0;34m*\u001B[0m\u001B[0margs\u001B[0m\u001B[0;34m,\u001B[0m \u001B[0;34m**\u001B[0m\u001B[0mkwargs\u001B[0m\u001B[0;34m)\u001B[0m\u001B[0;34m:\u001B[0m\u001B[0;34m\u001B[0m\u001B[0;34m\u001B[0m\u001B[0m\n\u001B[0;32m---> 11\u001B[0;31m         \u001B[0mresult\u001B[0m \u001B[0;34m=\u001B[0m \u001B[0mfunc\u001B[0m\u001B[0;34m(\u001B[0m\u001B[0mself\u001B[0m\u001B[0;34m,\u001B[0m \u001B[0;34m*\u001B[0m\u001B[0margs\u001B[0m\u001B[0;34m,\u001B[0m \u001B[0;34m**\u001B[0m\u001B[0mkwargs\u001B[0m\u001B[0;34m)\u001B[0m\u001B[0;34m\u001B[0m\u001B[0;34m\u001B[0m\u001B[0m\n\u001B[0m\u001B[1;32m     12\u001B[0m         \u001B[0;32mfor\u001B[0m \u001B[0matk\u001B[0m \u001B[0;32min\u001B[0m \u001B[0mself\u001B[0m\u001B[0;34m.\u001B[0m\u001B[0m__dict__\u001B[0m\u001B[0;34m.\u001B[0m\u001B[0mget\u001B[0m\u001B[0;34m(\u001B[0m\u001B[0;34m'_attacks'\u001B[0m\u001B[0;34m)\u001B[0m\u001B[0;34m.\u001B[0m\u001B[0mvalues\u001B[0m\u001B[0;34m(\u001B[0m\u001B[0;34m)\u001B[0m\u001B[0;34m:\u001B[0m\u001B[0;34m\u001B[0m\u001B[0;34m\u001B[0m\u001B[0m\n\u001B[1;32m     13\u001B[0m             \u001B[0meval\u001B[0m\u001B[0;34m(\u001B[0m\u001B[0;34m\"atk.\"\u001B[0m\u001B[0;34m+\u001B[0m\u001B[0mfunc\u001B[0m\u001B[0;34m.\u001B[0m\u001B[0m__name__\u001B[0m\u001B[0;34m+\u001B[0m\u001B[0;34m\"(*args, **kwargs)\"\u001B[0m\u001B[0;34m)\u001B[0m\u001B[0;34m\u001B[0m\u001B[0;34m\u001B[0m\u001B[0m\n",
      "\u001B[0;32m/usr/local/lib/python3.9/dist-packages/torchattacks/attack.py\u001B[0m in \u001B[0;36m_check_inputs\u001B[0;34m(self, images)\u001B[0m\n\u001B[1;32m     66\u001B[0m     \u001B[0;32mdef\u001B[0m \u001B[0m_check_inputs\u001B[0m\u001B[0;34m(\u001B[0m\u001B[0mself\u001B[0m\u001B[0;34m,\u001B[0m \u001B[0mimages\u001B[0m\u001B[0;34m)\u001B[0m\u001B[0;34m:\u001B[0m\u001B[0;34m\u001B[0m\u001B[0;34m\u001B[0m\u001B[0m\n\u001B[1;32m     67\u001B[0m         \u001B[0;32mif\u001B[0m \u001B[0mtorch\u001B[0m\u001B[0;34m.\u001B[0m\u001B[0mmax\u001B[0m\u001B[0;34m(\u001B[0m\u001B[0mimages\u001B[0m\u001B[0;34m)\u001B[0m \u001B[0;34m>\u001B[0m \u001B[0;36m1\u001B[0m \u001B[0;32mor\u001B[0m \u001B[0mtorch\u001B[0m\u001B[0;34m.\u001B[0m\u001B[0mmin\u001B[0m\u001B[0;34m(\u001B[0m\u001B[0mimages\u001B[0m\u001B[0;34m)\u001B[0m \u001B[0;34m<\u001B[0m \u001B[0;36m0\u001B[0m\u001B[0;34m:\u001B[0m\u001B[0;34m\u001B[0m\u001B[0;34m\u001B[0m\u001B[0m\n\u001B[0;32m---> 68\u001B[0;31m             \u001B[0;32mraise\u001B[0m \u001B[0mValueError\u001B[0m\u001B[0;34m(\u001B[0m\u001B[0;34m'Input must have a range [0, 1] (max: {}, min: {})'\u001B[0m\u001B[0;34m.\u001B[0m\u001B[0mformat\u001B[0m\u001B[0;34m(\u001B[0m\u001B[0mtorch\u001B[0m\u001B[0;34m.\u001B[0m\u001B[0mmax\u001B[0m\u001B[0;34m(\u001B[0m\u001B[0mimages\u001B[0m\u001B[0;34m)\u001B[0m\u001B[0;34m,\u001B[0m \u001B[0mtorch\u001B[0m\u001B[0;34m.\u001B[0m\u001B[0mmin\u001B[0m\u001B[0;34m(\u001B[0m\u001B[0mimages\u001B[0m\u001B[0;34m)\u001B[0m\u001B[0;34m)\u001B[0m\u001B[0;34m)\u001B[0m\u001B[0;34m\u001B[0m\u001B[0;34m\u001B[0m\u001B[0m\n\u001B[0m\u001B[1;32m     69\u001B[0m \u001B[0;34m\u001B[0m\u001B[0m\n\u001B[1;32m     70\u001B[0m     \u001B[0;34m@\u001B[0m\u001B[0mwrapper_method\u001B[0m\u001B[0;34m\u001B[0m\u001B[0;34m\u001B[0m\u001B[0m\n",
      "\u001B[0;31mValueError\u001B[0m: Input must have a range [0, 1] (max: 3.974942684173584, min: -4.253461837768555)"
     ]
    }
   ]
  },
  {
   "cell_type": "code",
   "source": [],
   "metadata": {
    "id": "x2bZUFNs-QfW"
   },
   "execution_count": null,
   "outputs": []
  },
  {
   "cell_type": "code",
   "source": [
    "x_adv.shape"
   ],
   "metadata": {
    "id": "-rezAsZG-Rh2"
   },
   "execution_count": null,
   "outputs": []
  },
  {
   "cell_type": "code",
   "source": [],
   "metadata": {
    "id": "xltI1qnrB2-2"
   },
   "execution_count": null,
   "outputs": []
  },
  {
   "cell_type": "code",
   "source": [
    "x_adv = []\n",
    "for batch_idx, (data, target) in enumerate(train_loader):\n",
    "    data, target = data.to(device), target.to(device)\n",
    "    x_adv.append(attack(data, target))\n",
    "x_adv = torch.cat(x_adv, dim=0)\n",
    "test(model, device, test_loader_adv)"
   ],
   "metadata": {
    "id": "2xVIJ-v7BEBM"
   },
   "execution_count": null,
   "outputs": []
  },
  {
   "cell_type": "code",
   "source": [
    "# plot adversarial examples\n",
    "import matplotlib.pyplot as plt\n",
    "import numpy as np\n",
    "\n",
    "\n",
    "def show_images_adversarial(images, cls_true, cls_pred=None):\n",
    "    assert len(images) == len(cls_true)\n",
    "    fig, axes = plt.subplots(3, 3)\n",
    "    fig.subplots_adjust(hspace=0.3, wspace=0.3)\n",
    "\n",
    "    for i, ax in enumerate(axes.flat):\n",
    "        ax.imshow(images[i], cmap='gray')\n",
    "        if cls_pred is None:\n",
    "            xlabel = \"True: {0}\".format(cls_true[i])\n",
    "        else:\n",
    "            xlabel = \"True: {0}, Pred: {1}\".format(cls_true[i], cls_pred[i])\n",
    "\n",
    "        ax.set_xlabel(xlabel)\n",
    "        ax.set_xticks([])\n",
    "        ax.set_yticks([])\n",
    "    plt.show()"
   ],
   "metadata": {
    "id": "Zd6vdZDfAOyg"
   },
   "execution_count": null,
   "outputs": []
  },
  {
   "cell_type": "code",
   "source": [],
   "metadata": {
    "id": "hkvpaXy44CAU"
   },
   "execution_count": null,
   "outputs": []
  }
 ]
}