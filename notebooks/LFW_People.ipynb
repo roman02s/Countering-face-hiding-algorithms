{
 "cells": [
  {
   "cell_type": "code",
   "execution_count": 217,
   "id": "ff8e45d9",
   "metadata": {},
   "outputs": [],
   "source": [
    "import numpy as np\n",
    "import matplotlib.pyplot as plt\n",
    "\n",
    "\n",
    "from sklearn.datasets import fetch_lfw_people\n",
    "from sklearn.model_selection import train_test_split\n",
    "from sklearn.metrics import confusion_matrix\n",
    "from sklearn.metrics import classification_report, log_loss, accuracy_score\n",
    "\n",
    "import tensorflow as tf\n",
    "from tensorflow.keras.utils import to_categorical\n",
    "\n",
    "from keras.models import Sequential\n",
    "from keras.layers import Dense,Flatten,GlobalAveragePooling2D,Conv2D,MaxPooling2D,Activation,Dropout\n",
    "\n",
    "from art.utils import load_dataset"
   ]
  },
  {
   "cell_type": "code",
   "execution_count": 218,
   "id": "bd7e34f7",
   "metadata": {},
   "outputs": [],
   "source": [
    "lfw_dataset=fetch_lfw_people(min_faces_per_person=100)"
   ]
  },
  {
   "cell_type": "code",
   "execution_count": 219,
   "id": "72f31add",
   "metadata": {},
   "outputs": [
    {
     "name": "stdout",
     "output_type": "stream",
     "text": [
      "(1140, 62, 47)\n",
      "(1140, 2914)\n",
      "(5,)\n",
      "(1140,)\n"
     ]
    }
   ],
   "source": [
    "print(lfw_dataset.images.shape)\n",
    "print(lfw_dataset.data.shape)\n",
    "print(lfw_dataset.target_names.shape)\n",
    "print(lfw_dataset.target.shape)"
   ]
  },
  {
   "cell_type": "code",
   "execution_count": 222,
   "id": "77fa5ba4",
   "metadata": {},
   "outputs": [
    {
     "name": "stdout",
     "output_type": "stream",
     "text": [
      "(912, 62, 47, 1)\n",
      "(228, 62, 47, 1)\n",
      "(912, 5)\n",
      "(228, 5)\n"
     ]
    }
   ],
   "source": [
    "X0=lfw_dataset.images\n",
    "y=lfw_dataset.target\n",
    "X=X0.reshape(-1,62,47,1)\n",
    "\n",
    "trainx,testx,trainy,testy=train_test_split(X,to_categorical(y),test_size=0.2)\n",
    "\n",
    "print(trainx.shape)\n",
    "print(testx.shape)\n",
    "print(trainy.shape)\n",
    "print(testy.shape)"
   ]
  },
  {
   "cell_type": "code",
   "execution_count": 223,
   "id": "098502c2",
   "metadata": {},
   "outputs": [
    {
     "data": {
      "text/plain": [
       "array([0., 0., 1., 0., 0.], dtype=float32)"
      ]
     },
     "execution_count": 223,
     "metadata": {},
     "output_type": "execute_result"
    }
   ],
   "source": [
    "testy[0]"
   ]
  },
  {
   "cell_type": "code",
   "execution_count": 224,
   "id": "8da224d4",
   "metadata": {},
   "outputs": [],
   "source": [
    "x_train = trainx.astype(np.float32)\n",
    "x_test = testx.astype(np.float32)\n",
    "y_train = trainy.astype(np.float32)\n",
    "y_test = testy.astype(np.float32)"
   ]
  },
  {
   "cell_type": "code",
   "execution_count": 240,
   "id": "b977713a",
   "metadata": {},
   "outputs": [],
   "source": [
    "from art.attacks.evasion import FeatureAdversariesTensorFlowV2\n",
    "from art.estimators.classification import TensorFlowV2Classifier\n",
    "from art.utils import load_mnist\n",
    "\n",
    "model = Sequential()\n",
    "model.add(Conv2D(32,(3,3), input_shape=(62,47,1), activation='relu'))\n",
    "model.add(MaxPooling2D(2,2))\n",
    "model.add(Conv2D(32,(3,3), activation='relu'))\n",
    "model.add(MaxPooling2D(2,2))\n",
    "model.add(Flatten())\n",
    "model.add(Dense(units=512, activation='relu'))\n",
    "model.add(Dense(units=128, activation='relu'))\n",
    "model.add(Dense(units=5, activation='softmax'))\n",
    "# model.summary()\n",
    "# model.compile(loss='categorical_crossentropy', optimizer='adam', metrics=['accuracy'])\n",
    "# Step 2a: Define the loss function and optimizer\n",
    "\n",
    "optimizer = tf.keras.optimizers.Adam(learning_rate=0.01)\n",
    "loss_object = tf.keras.losses.CategoricalCrossentropy(from_logits=True)\n",
    "\n",
    "def train_step(model, images, labels):\n",
    "    with tf.GradientTape() as tape:\n",
    "        predictions = model(images, training=True)\n",
    "        loss = loss_object(labels, predictions)\n",
    "    gradients = tape.gradient(loss, model.trainable_variables)\n",
    "    optimizer.apply_gradients(zip(gradients, model.trainable_variables))\n",
    "\n",
    "# Step 3: Create the ART classifier\n",
    "\n",
    "classifier = TensorFlowV2Classifier(\n",
    "    model=model,\n",
    "    loss_object=loss_object,\n",
    "    train_step=train_step,\n",
    "    nb_classes=5,\n",
    "    input_shape=(62, 47, 1),\n",
    "    clip_values=(0, 1),\n",
    ")"
   ]
  },
  {
   "cell_type": "code",
   "execution_count": 241,
   "id": "0ea13f03",
   "metadata": {},
   "outputs": [],
   "source": [
    "classifier.fit(x_train, y_train, validation_data=(x_test, y_test), nb_epochs=100)"
   ]
  },
  {
   "cell_type": "code",
   "execution_count": 231,
   "id": "4e2e77f7",
   "metadata": {},
   "outputs": [
    {
     "data": {
      "text/plain": [
       "array([[0.20671345, 0.09626867, 0.48791662, 0.08586582, 0.12323547],\n",
       "       [0.20671345, 0.09626867, 0.48791662, 0.08586582, 0.12323547],\n",
       "       [0.20671345, 0.09626867, 0.48791662, 0.08586582, 0.12323547],\n",
       "       ...,\n",
       "       [0.20671345, 0.09626867, 0.48791662, 0.08586582, 0.12323547],\n",
       "       [0.20671345, 0.09626867, 0.48791662, 0.08586582, 0.12323547],\n",
       "       [0.20671345, 0.09626867, 0.48791662, 0.08586582, 0.12323547]],\n",
       "      dtype=float32)"
      ]
     },
     "execution_count": 231,
     "metadata": {},
     "output_type": "execute_result"
    }
   ],
   "source": [
    "classifier.predict(x_train)"
   ]
  },
  {
   "cell_type": "code",
   "execution_count": 234,
   "id": "a3ca71b7",
   "metadata": {},
   "outputs": [
    {
     "name": "stdout",
     "output_type": "stream",
     "text": [
      "Accuracy on benign test examples: 43.42105263157895%\n"
     ]
    }
   ],
   "source": [
    "# Step 5: Evaluate the ART classifier on benign test examples\n",
    "\n",
    "predictions = classifier.predict(x_test)\n",
    "accuracy = np.sum(np.argmax(predictions, axis=1) == np.argmax(y_test, axis=1)) / len(y_test)\n",
    "print(\"Accuracy on benign test examples: {}%\".format(accuracy * 100))"
   ]
  },
  {
   "cell_type": "code",
   "execution_count": 247,
   "id": "2e947f0d",
   "metadata": {},
   "outputs": [],
   "source": [
    "# Step 5: prepare a batch of source and guide images\n",
    "valid = np.argmax(y_test, axis=1)[:100] != np.argmax(y_test, axis=1)[100:200]\n",
    "source = x_test[:100][valid][:32]\n",
    "guide = x_test[100:200][valid][:32]"
   ]
  },
  {
   "cell_type": "code",
   "execution_count": 249,
   "id": "a1cc4732",
   "metadata": {},
   "outputs": [
    {
     "data": {
      "text/plain": [
       "(228, 5)"
      ]
     },
     "execution_count": 249,
     "metadata": {},
     "output_type": "execute_result"
    }
   ],
   "source": [
    "y_test.shape"
   ]
  },
  {
   "cell_type": "code",
   "execution_count": 242,
   "id": "0b8e5c3b",
   "metadata": {},
   "outputs": [
    {
     "data": {
      "application/vnd.jupyter.widget-view+json": {
       "model_id": "331bcb6716e5458eba06c399c86bb6cf",
       "version_major": 2,
       "version_minor": 0
      },
      "text/plain": [
       "Feature Adversaries TensorFlow v2:   0%|          | 0/100 [00:00<?, ?it/s]"
      ]
     },
     "metadata": {},
     "output_type": "display_data"
    },
    {
     "name": "stdout",
     "output_type": "stream",
     "text": [
      "Accuracy on adversarial test batch: 56.25%\n",
      "Average perturbation: 228.98959350585938%\n"
     ]
    }
   ],
   "source": [
    "# Step 6: Generate adversarial test examples\n",
    "attack = FeatureAdversariesTensorFlowV2(\n",
    "    classifier,\n",
    "    layer=-2,\n",
    "    delta=45/255,\n",
    "    optimizer=None,\n",
    "    step_size=1/255,\n",
    "    max_iter=100,\n",
    ")\n",
    "x_test_adv = attack.generate(source, guide)\n",
    "\n",
    "# Step 7: Evaluate the ART classifier on adversarial test examples\n",
    "\n",
    "predictions = classifier.predict(x_test_adv)\n",
    "accuracy = np.sum(np.argmax(predictions, axis=1) == np.argmax(y_test[:100][valid][:32], axis=1)) / len(y_test[:100][valid][:32])\n",
    "\n",
    "dim = tuple(range(1, len(source.shape)))\n",
    "pert = np.mean(np.amax(np.abs(source - x_test_adv), axis=dim))\n",
    "print(\"Accuracy on adversarial test batch: {}%\".format(accuracy * 100))\n",
    "print(\"Average perturbation: {}%\".format(pert))"
   ]
  },
  {
   "cell_type": "code",
   "execution_count": 243,
   "id": "742acd84",
   "metadata": {},
   "outputs": [
    {
     "data": {
      "text/plain": [
       "(32, 62, 47, 1)"
      ]
     },
     "execution_count": 243,
     "metadata": {},
     "output_type": "execute_result"
    }
   ],
   "source": [
    "x_test_adv.shape"
   ]
  },
  {
   "cell_type": "code",
   "execution_count": 244,
   "id": "d15e68cc",
   "metadata": {},
   "outputs": [
    {
     "data": {
      "text/plain": [
       "<matplotlib.image.AxesImage at 0x28826c9a0>"
      ]
     },
     "execution_count": 244,
     "metadata": {},
     "output_type": "execute_result"
    },
    {
     "data": {
      "image/png": "[encoded data removed]",
      "text/plain": [
       "<Figure size 432x288 with 1 Axes>"
      ]
     },
     "metadata": {
      "needs_background": "light"
     },
     "output_type": "display_data"
    }
   ],
   "source": [
    "# Step 8: Inspect results\n",
    "\n",
    "# orig 7, guide 6\n",
    "plt.imshow(x_test_adv[2,...].squeeze())"
   ]
  },
  {
   "cell_type": "code",
   "execution_count": 245,
   "id": "62b89b58",
   "metadata": {},
   "outputs": [
    {
     "data": {
      "application/vnd.jupyter.widget-view+json": {
       "model_id": "d3fbed022aee4ede85f65f3ec1dd35fc",
       "version_major": 2,
       "version_minor": 0
      },
      "text/plain": [
       "Feature Adversaries TensorFlow v2:   0%|          | 0/100 [00:00<?, ?it/s]"
      ]
     },
     "metadata": {},
     "output_type": "display_data"
    },
    {
     "name": "stdout",
     "output_type": "stream",
     "text": [
      "Accuracy on adversarial test batch: 56.25%\n",
      "Average perturbation: 228.98959350585938%\n"
     ]
    }
   ],
   "source": [
    "# Step 6: Generate adversarial test examples\n",
    "attack = FeatureAdversariesTensorFlowV2(\n",
    "    classifier,\n",
    "    layer=-2,\n",
    "    delta=45/255,\n",
    "    optimizer=tf.keras.optimizers.Adam,\n",
    "    optimizer_kwargs={\"learning_rate\": 0.01},\n",
    "    lambda_=1.0,\n",
    "    max_iter=100,\n",
    "    random_start=True,\n",
    ")\n",
    "x_test_adv = attack.generate(source, guide)\n",
    "\n",
    "# Step 7: Evaluate the ART classifier on adversarial test examples\n",
    "\n",
    "predictions = classifier.predict(x_test_adv)\n",
    "accuracy = np.sum(np.argmax(predictions, axis=1) == np.argmax(y_test[:100][valid][:32], axis=1)) / len(y_test[:100][valid][:32])\n",
    "\n",
    "dim = tuple(range(1, len(source.shape)))\n",
    "pert = np.mean(np.amax(np.abs(source - x_test_adv), axis=dim))\n",
    "print(\"Accuracy on adversarial test batch: {}%\".format(accuracy * 100))\n",
    "print(\"Average perturbation: {}%\".format(pert))"
   ]
  },
  {
   "cell_type": "code",
   "execution_count": 246,
   "id": "aae60a1d",
   "metadata": {},
   "outputs": [
    {
     "data": {
      "text/plain": [
       "<matplotlib.image.AxesImage at 0x2883e44c0>"
      ]
     },
     "execution_count": 246,
     "metadata": {},
     "output_type": "execute_result"
    },
    {
     "data": {
      "image/png": "[encoded data removed]",
      "text/plain": [
       "<Figure size 432x288 with 1 Axes>"
      ]
     },
     "metadata": {
      "needs_background": "light"
     },
     "output_type": "display_data"
    }
   ],
   "source": [
    "# orig 1, guide 5\n",
    "plt.imshow(x_test_adv[10,...].squeeze())"
   ]
  },
  {
   "cell_type": "code",
   "execution_count": 213,
   "id": "bf4c06e1",
   "metadata": {},
   "outputs": [],
   "source": [
    "def plot_gallery(images, titles, h=62, w=47, n_row=1, n_col=4):\n",
    "    \"\"\"Helper function to plot a gallery of portraits\"\"\"\n",
    "    plt.figure(figsize=(1.8 * n_col, 2.4 * n_row))\n",
    "    plt.subplots_adjust(bottom=0, left=.01, right=.99, top=.90, hspace=.35)\n",
    "    for i in range(n_row * n_col):\n",
    "        plt.subplot(n_row, n_col, i+1)\n",
    "        plt.imshow(images[i].reshape((h, w)), cmap=plt.cm.gray)\n",
    "        plt.title(titles[i], size=12)\n",
    "        plt.xticks(())\n",
    "        plt.yticks(())"
   ]
  },
  {
   "cell_type": "code",
   "execution_count": 214,
   "id": "b7bebd8b",
   "metadata": {},
   "outputs": [
    {
     "data": {
      "image/png": "[encoded data removed]",
      "text/plain": [
       "<Figure size 518.4x172.8 with 4 Axes>"
      ]
     },
     "metadata": {},
     "output_type": "display_data"
    }
   ],
   "source": [
    "test1=x_test[0:4].reshape(4,62*47)\n",
    "plot_gallery(test1,'1234',62,47)"
   ]
  },
  {
   "cell_type": "code",
   "execution_count": 216,
   "id": "50932ef6",
   "metadata": {},
   "outputs": [
    {
     "data": {
      "image/png": "[encoded data removed]",
      "text/plain": [
       "<Figure size 518.4x172.8 with 4 Axes>"
      ]
     },
     "metadata": {},
     "output_type": "display_data"
    }
   ],
   "source": [
    "test1_adv=x_test_adv[0:4].reshape(4,62*47)\n",
    "plot_gallery(test1_adv,'1234',62,47)"
   ]
  },
  {
   "cell_type": "code",
   "execution_count": null,
   "id": "a26eeb54",
   "metadata": {},
   "outputs": [],
   "source": []
  }
 ],
 "metadata": {
  "kernelspec": {
   "display_name": "Python 3 (ipykernel)",
   "language": "python",
   "name": "python3"
  },
  "language_info": {
   "codemirror_mode": {
    "name": "ipython",
    "version": 3
   },
   "file_extension": ".py",
   "mimetype": "text/x-python",
   "name": "python",
   "nbconvert_exporter": "python",
   "pygments_lexer": "ipython3",
   "version": "3.9.12"
  }
 },
 "nbformat": 4,
 "nbformat_minor": 5
}
