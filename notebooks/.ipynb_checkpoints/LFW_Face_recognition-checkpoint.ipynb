{
 "cells": [
  {
   "cell_type": "code",
   "execution_count": 1,
   "metadata": {
    "colab": {
     "base_uri": "https://localhost:8080/"
    },
    "id": "C82nkWo1Z83r",
    "outputId": "147f98b9-542e-40af-8a71-f43b24fcfa40"
   },
   "outputs": [],
   "source": [
    "# from google.colab import drive\n",
    "# drive.mount('/content/drive')"
   ]
  },
  {
   "cell_type": "code",
   "execution_count": 2,
   "metadata": {
    "colab": {
     "base_uri": "https://localhost:8080/"
    },
    "id": "UlnxJTb8azNw",
    "outputId": "aae03dfd-cd6a-4a26-e49b-1416b959cc46"
   },
   "outputs": [],
   "source": [
    "# !unzip /content/drive/MyDrive/VGG_model_85.zip"
   ]
  },
  {
   "cell_type": "markdown",
   "metadata": {
    "id": "Yj5vRnylcPJj"
   },
   "source": [
    "# Model"
   ]
  },
  {
   "cell_type": "markdown",
   "metadata": {
    "id": "xclWcuAucRwg"
   },
   "source": [
    "## Imports"
   ]
  },
  {
   "cell_type": "code",
   "execution_count": null,
   "metadata": {
    "id": "Fnbiq_gRbM6U"
   },
   "outputs": [],
   "source": []
  },
  {
   "cell_type": "code",
   "execution_count": null,
   "metadata": {
    "execution": {
     "iopub.execute_input": "2023-04-24T16:15:06.248815Z",
     "iopub.status.busy": "2023-04-24T16:15:06.248287Z",
     "iopub.status.idle": "2023-04-24T16:15:14.465195Z",
     "shell.execute_reply": "2023-04-24T16:15:14.464043Z",
     "shell.execute_reply.started": "2023-04-24T16:15:06.248721Z"
    },
    "id": "B_cyavweWmRN",
    "papermill": {
     "duration": 5.579884,
     "end_time": "2021-04-25T07:07:55.709182",
     "exception": false,
     "start_time": "2021-04-25T07:07:50.129298",
     "status": "completed"
    },
    "tags": []
   },
   "outputs": [],
   "source": [
    "import numpy as np\n",
    "import pandas as pd\n",
    "import os\n",
    "from time import time\n",
    "import errno\n",
    "import shutil\n",
    "import matplotlib.pyplot as plt\n",
    "\n",
    "import tensorflow as tf\n",
    "\n",
    "from tensorflow.keras.utils import to_categorical\n",
    "from tensorflow.keras.preprocessing.image import load_img, img_to_array\n",
    "from tensorflow.keras.preprocessing.image import ImageDataGenerator\n",
    "from keras.models import Sequential\n",
    "from keras.layers import Dense,Flatten,GlobalAveragePooling2D,Conv2D,MaxPooling2D,Activation,Dropout\n",
    "\n",
    "from sklearn.datasets import fetch_lfw_people\n",
    "from sklearn.metrics import confusion_matrix\n",
    "from sklearn.metrics import classification_report, log_loss, accuracy_score\n",
    "from sklearn.model_selection import train_test_split\n",
    "#from sklearn.decomposition import PCA\n",
    "#from sklearn.svm import SVC\n",
    "#from sklearn.model_selection import GridSearchCV\n"
   ]
  },
  {
   "cell_type": "code",
   "execution_count": null,
   "metadata": {
    "execution": {
     "iopub.execute_input": "2023-04-24T16:15:17.646141Z",
     "iopub.status.busy": "2023-04-24T16:15:17.645758Z",
     "iopub.status.idle": "2023-04-24T16:15:21.605398Z",
     "shell.execute_reply": "2023-04-24T16:15:21.604334Z",
     "shell.execute_reply.started": "2023-04-24T16:15:17.646104Z"
    },
    "id": "Wr2czLYgWmRQ"
   },
   "outputs": [],
   "source": [
    "# def copy(src, dest):\n",
    "#     try:\n",
    "#         shutil.copytree(src, dest)\n",
    "#     except OSError as e:\n",
    "#         if e.errno == errno.ENOTDIR:\n",
    "#             shutil.copy(src, dest)\n",
    "#         else:\n",
    "#             print('Directory not copied. Error: %s' % e)\n",
    "            \n",
    "# src = '../input/'\n",
    "# dest = '../LFW/lfw_home'\n",
    "# copy(src,dest) \n",
    "\n",
    "# #### copy work is essential"
   ]
  },
  {
   "cell_type": "code",
   "execution_count": null,
   "metadata": {
    "execution": {
     "iopub.execute_input": "2023-04-24T16:15:21.607831Z",
     "iopub.status.busy": "2023-04-24T16:15:21.607275Z",
     "iopub.status.idle": "2023-04-24T16:15:21.615804Z",
     "shell.execute_reply": "2023-04-24T16:15:21.614975Z",
     "shell.execute_reply.started": "2023-04-24T16:15:21.607720Z"
    },
    "id": "T2SbCBcgWmRR"
   },
   "outputs": [],
   "source": [
    "# ###### read_only_area\n",
    "# print(os.listdir('../input'))\n",
    "# print(os.listdir('../input/lfwpeople'))\n",
    "\n",
    "# ###### write_available_area\n",
    "# print(os.listdir('../LFW'))\n",
    "# print(os.listdir('../LFW/lfw_home'))\n",
    "# print(os.listdir('../LFW/lfw_home/lfwpeople'))   \n",
    "\n",
    "# path = '../LWF' "
   ]
  },
  {
   "cell_type": "code",
   "execution_count": null,
   "metadata": {
    "execution": {
     "iopub.execute_input": "2023-04-24T16:15:22.691660Z",
     "iopub.status.busy": "2023-04-24T16:15:22.691082Z",
     "iopub.status.idle": "2023-04-24T16:15:43.148230Z",
     "shell.execute_reply": "2023-04-24T16:15:43.145263Z",
     "shell.execute_reply.started": "2023-04-24T16:15:22.691619Z"
    },
    "id": "jJgTBsZwWmRS"
   },
   "outputs": [],
   "source": [
    "lfw_dataset=fetch_lfw_people(min_faces_per_person=100)"
   ]
  },
  {
   "cell_type": "code",
   "execution_count": null,
   "metadata": {
    "colab": {
     "base_uri": "https://localhost:8080/"
    },
    "execution": {
     "iopub.status.busy": "2023-04-24T16:07:23.438303Z",
     "iopub.status.idle": "2023-04-24T16:07:23.438789Z"
    },
    "id": "SA38TcVjWmRS",
    "outputId": "acf8df22-52a6-46f9-a3bb-7aedd479a109"
   },
   "outputs": [],
   "source": [
    "print(lfw_dataset.images.shape)\n",
    "print(lfw_dataset.data.shape)\n",
    "print(lfw_dataset.target_names.shape)\n",
    "print(lfw_dataset.target.shape)"
   ]
  },
  {
   "cell_type": "code",
   "execution_count": null,
   "metadata": {
    "colab": {
     "base_uri": "https://localhost:8080/"
    },
    "execution": {
     "iopub.status.busy": "2023-04-24T16:07:23.440161Z",
     "iopub.status.idle": "2023-04-24T16:07:23.440895Z"
    },
    "id": "e-z6oKqWWmRS",
    "outputId": "8df3d3d5-e5b9-4d5e-fff3-6a5f30a31f64",
    "papermill": {
     "duration": 0.022612,
     "end_time": "2021-04-25T07:07:55.749535",
     "exception": false,
     "start_time": "2021-04-25T07:07:55.726923",
     "status": "completed"
    },
    "tags": []
   },
   "outputs": [],
   "source": [
    "lfw_dataset.target"
   ]
  },
  {
   "cell_type": "code",
   "execution_count": null,
   "metadata": {
    "colab": {
     "base_uri": "https://localhost:8080/"
    },
    "execution": {
     "iopub.status.busy": "2023-04-24T16:07:23.442292Z",
     "iopub.status.idle": "2023-04-24T16:07:23.442948Z"
    },
    "id": "w2CMeYK_WmRT",
    "outputId": "e20aa265-d3f6-4eb0-b65e-58f187e55610",
    "papermill": {
     "duration": 0.15222,
     "end_time": "2021-04-25T07:07:55.917393",
     "exception": false,
     "start_time": "2021-04-25T07:07:55.765173",
     "status": "completed"
    },
    "tags": []
   },
   "outputs": [],
   "source": [
    "Name = lfw_dataset.target_names\n",
    "\n",
    "print(Name)\n",
    "print(len(Name))"
   ]
  },
  {
   "cell_type": "code",
   "execution_count": null,
   "metadata": {
    "execution": {
     "iopub.status.busy": "2023-04-24T16:07:23.444538Z",
     "iopub.status.idle": "2023-04-24T16:07:23.445211Z"
    },
    "id": "NkHpWpICWmRT",
    "papermill": {
     "duration": 0.023531,
     "end_time": "2021-04-25T07:07:55.957708",
     "exception": false,
     "start_time": "2021-04-25T07:07:55.934177",
     "status": "completed"
    },
    "tags": []
   },
   "outputs": [],
   "source": [
    "N=[]\n",
    "for i in range(len(Name)):\n",
    "    N+=[i]\n",
    "    \n",
    "mapping=dict(zip(Name,N)) \n",
    "reverse_mapping=dict(zip(N,Name)) \n",
    "\n",
    "def mapper(value):\n",
    "    return reverse_mapping[value]"
   ]
  },
  {
   "cell_type": "code",
   "execution_count": null,
   "metadata": {
    "execution": {
     "iopub.status.busy": "2023-04-24T16:07:23.446378Z",
     "iopub.status.idle": "2023-04-24T16:07:23.447022Z"
    },
    "id": "86RtlPzxWmRT"
   },
   "outputs": [],
   "source": [
    "X0=lfw_dataset.images\n",
    "y=lfw_dataset.target"
   ]
  },
  {
   "cell_type": "code",
   "execution_count": null,
   "metadata": {
    "colab": {
     "base_uri": "https://localhost:8080/"
    },
    "execution": {
     "iopub.status.busy": "2023-04-24T16:07:23.448210Z",
     "iopub.status.idle": "2023-04-24T16:07:23.448871Z"
    },
    "id": "K5hTqdpLWmRU",
    "outputId": "70fd9932-7c0c-4499-cb59-629004145dda"
   },
   "outputs": [],
   "source": [
    "print(X0.shape)\n",
    "X=X0.reshape(-1,62,47,1)\n",
    "print(X.shape)"
   ]
  },
  {
   "cell_type": "code",
   "execution_count": null,
   "metadata": {
    "_cell_guid": "79c7e3d0-c299-4dcb-8224-4455121ee9b0",
    "_uuid": "d629ff2d2480ee46fbb7e2d37f6b5fab8052498a",
    "execution": {
     "iopub.status.busy": "2023-04-24T16:07:23.450348Z",
     "iopub.status.idle": "2023-04-24T16:07:23.451232Z"
    },
    "id": "Rrbtq3qTWmRU",
    "papermill": {
     "duration": 14.785601,
     "end_time": "2021-04-25T07:08:10.798527",
     "exception": false,
     "start_time": "2021-04-25T07:07:56.012926",
     "status": "completed"
    },
    "tags": []
   },
   "outputs": [],
   "source": [
    "dataset=[]\n",
    "testset=[]\n",
    "t=0\n",
    "for Xi,yi in zip(X,y):\n",
    "    img=Xi/255.0\n",
    "    if t<=200:\n",
    "        dataset.append([img,yi])\n",
    "    else:   \n",
    "        testset.append([img,yi])\n",
    "    t+=1"
   ]
  },
  {
   "cell_type": "code",
   "execution_count": null,
   "metadata": {
    "execution": {
     "iopub.status.busy": "2023-04-24T16:07:23.452695Z",
     "iopub.status.idle": "2023-04-24T16:07:23.453339Z"
    },
    "id": "0Vj5VI6HWmRU",
    "papermill": {
     "duration": 0.164791,
     "end_time": "2021-04-25T07:08:10.980431",
     "exception": false,
     "start_time": "2021-04-25T07:08:10.81564",
     "status": "completed"
    },
    "tags": []
   },
   "outputs": [],
   "source": [
    "data,labels0=zip(*dataset)\n",
    "test,tlabels0=zip(*testset)"
   ]
  },
  {
   "cell_type": "code",
   "execution_count": null,
   "metadata": {
    "execution": {
     "iopub.status.busy": "2023-04-24T16:07:23.455000Z",
     "iopub.status.idle": "2023-04-24T16:07:23.455675Z"
    },
    "id": "A_fTqjR0WmRU",
    "papermill": {
     "duration": 0.137825,
     "end_time": "2021-04-25T07:08:11.135337",
     "exception": false,
     "start_time": "2021-04-25T07:08:10.997512",
     "status": "completed"
    },
    "tags": []
   },
   "outputs": [],
   "source": [
    "labels1=to_categorical(labels0)\n",
    "data=np.array(data)\n",
    "labels=np.array(labels1)"
   ]
  },
  {
   "cell_type": "code",
   "execution_count": null,
   "metadata": {
    "execution": {
     "iopub.status.busy": "2023-04-24T16:07:23.457023Z",
     "iopub.status.idle": "2023-04-24T16:07:23.457700Z"
    },
    "id": "KMNdU9JxWmRU",
    "papermill": {
     "duration": 0.123877,
     "end_time": "2021-04-25T07:08:11.277006",
     "exception": false,
     "start_time": "2021-04-25T07:08:11.153129",
     "status": "completed"
    },
    "tags": []
   },
   "outputs": [],
   "source": [
    "tlabels1=to_categorical(tlabels0)\n",
    "test=np.array(test)\n",
    "tlabels=np.array(tlabels1)"
   ]
  },
  {
   "cell_type": "code",
   "execution_count": null,
   "metadata": {
    "execution": {
     "iopub.status.busy": "2023-04-24T16:07:23.458872Z",
     "iopub.status.idle": "2023-04-24T16:07:23.459488Z"
    },
    "id": "_XEdPWnuWmRV",
    "papermill": {
     "duration": 0.120415,
     "end_time": "2021-04-25T07:08:11.460311",
     "exception": false,
     "start_time": "2021-04-25T07:08:11.339896",
     "status": "completed"
    },
    "tags": []
   },
   "outputs": [],
   "source": [
    "trainx,testx,trainy,testy=train_test_split(data,labels,test_size=0.2,random_state=44)"
   ]
  },
  {
   "cell_type": "code",
   "execution_count": null,
   "metadata": {
    "colab": {
     "base_uri": "https://localhost:8080/"
    },
    "execution": {
     "iopub.status.busy": "2023-04-24T16:07:23.460776Z",
     "iopub.status.idle": "2023-04-24T16:07:23.461412Z"
    },
    "id": "cto_RZTNWmRV",
    "outputId": "4a0ffedf-3766-4cc3-9c84-62147189665a",
    "papermill": {
     "duration": 0.027242,
     "end_time": "2021-04-25T07:08:11.506602",
     "exception": false,
     "start_time": "2021-04-25T07:08:11.47936",
     "status": "completed"
    },
    "tags": []
   },
   "outputs": [],
   "source": [
    "print(trainx.shape)\n",
    "print(testx.shape)\n",
    "print(trainy.shape)\n",
    "print(testy.shape)"
   ]
  },
  {
   "cell_type": "code",
   "execution_count": null,
   "metadata": {
    "execution": {
     "iopub.status.busy": "2023-04-24T16:07:23.462617Z",
     "iopub.status.idle": "2023-04-24T16:07:23.463244Z"
    },
    "id": "v8OwG58OWmRV"
   },
   "outputs": [],
   "source": [
    "datagen = ImageDataGenerator(horizontal_flip=True,vertical_flip=True,rotation_range=20,zoom_range=0.2,\n",
    "                    width_shift_range=0.2,height_shift_range=0.2,shear_range=0.1,fill_mode=\"nearest\")"
   ]
  },
  {
   "cell_type": "code",
   "execution_count": null,
   "metadata": {
    "execution": {
     "iopub.status.busy": "2023-04-24T16:07:23.464554Z",
     "iopub.status.idle": "2023-04-24T16:07:23.465201Z"
    },
    "id": "whRbNWtoWmRV"
   },
   "outputs": [],
   "source": [
    "model = Sequential()\n",
    "\n",
    "model.add(Conv2D(32,(3,3), input_shape=(62,47,1), activation='relu'))\n",
    "model.add(MaxPooling2D(2,2))\n",
    "model.add(Conv2D(32,(3,3), activation='relu'))\n",
    "model.add(MaxPooling2D(2,2))\n",
    "model.add(Flatten())\n",
    "model.add(Dense(units=512, activation='relu'))\n",
    "model.add(Dense(units=128, activation='relu'))\n",
    "model.add(Dense(units=5, activation='softmax'))"
   ]
  },
  {
   "cell_type": "code",
   "execution_count": null,
   "metadata": {
    "colab": {
     "base_uri": "https://localhost:8080/"
    },
    "execution": {
     "iopub.status.busy": "2023-04-24T16:07:23.466479Z",
     "iopub.status.idle": "2023-04-24T16:07:23.467121Z"
    },
    "id": "ZDfjzO3UWmRV",
    "outputId": "c05013a9-2afa-426e-cbb0-ee8fd97b097d"
   },
   "outputs": [],
   "source": [
    "model.summary()\n",
    "model.compile(loss='categorical_crossentropy', optimizer='adam', metrics=['accuracy'])"
   ]
  },
  {
   "cell_type": "markdown",
   "metadata": {
    "id": "eDEsIOhEbWTm"
   },
   "source": [
    "## Training model"
   ]
  },
  {
   "cell_type": "code",
   "execution_count": null,
   "metadata": {
    "colab": {
     "base_uri": "https://localhost:8080/"
    },
    "execution": {
     "iopub.status.busy": "2023-04-24T16:07:23.468376Z",
     "iopub.status.idle": "2023-04-24T16:07:23.469035Z"
    },
    "id": "-woSvlyCWmRV",
    "outputId": "6caddc23-cb9a-43a1-b6ee-aecf53616ca3"
   },
   "outputs": [],
   "source": [
    "# his=model.fit(datagen.flow(trainx,trainy,batch_size=32),validation_data=(testx,testy),epochs=1000)\n",
    "his=model.fit(trainx,trainy, validation_data=(testx,testy),epochs=1000, batch_size=32)"
   ]
  },
  {
   "cell_type": "code",
   "execution_count": null,
   "metadata": {
    "colab": {
     "base_uri": "https://localhost:8080/"
    },
    "execution": {
     "iopub.status.busy": "2023-04-24T16:07:23.470611Z",
     "iopub.status.idle": "2023-04-24T16:07:23.471271Z"
    },
    "id": "dRC3ucS0WmRV",
    "outputId": "97a850c1-49da-473f-9d86-09ca0ea4c3ab"
   },
   "outputs": [],
   "source": [
    "y_pred=model.predict(testx)\n",
    "pred=np.argmax(y_pred,axis=1)\n",
    "ground=np.argmax(testy,axis=1)\n",
    "print(classification_report(ground,pred))"
   ]
  },
  {
   "cell_type": "code",
   "execution_count": null,
   "metadata": {
    "colab": {
     "base_uri": "https://localhost:8080/",
     "height": 258
    },
    "execution": {
     "iopub.status.busy": "2023-04-24T16:07:23.472736Z",
     "iopub.status.idle": "2023-04-24T16:07:23.473370Z"
    },
    "id": "pqim-FXWWmRV",
    "outputId": "729bba45-01b5-4f89-a819-cee552212368",
    "papermill": {
     "duration": 0.995914,
     "end_time": "2021-04-25T07:14:32.648575",
     "exception": false,
     "start_time": "2021-04-25T07:14:31.652661",
     "status": "completed"
    },
    "tags": []
   },
   "outputs": [],
   "source": [
    "get_acc = his.history['accuracy']\n",
    "value_acc = his.history['val_accuracy']\n",
    "get_loss = his.history['loss']\n",
    "validation_loss = his.history['val_loss']\n",
    "\n",
    "epochs = range(len(get_acc))\n",
    "plt.plot(epochs, get_acc, 'r', label='Accuracy of Training data')\n",
    "plt.plot(epochs, value_acc, 'b', label='Accuracy of Validation data')\n",
    "plt.title('Training vs validation accuracy')\n",
    "plt.legend(loc=0)\n",
    "plt.figure()\n",
    "plt.show()"
   ]
  },
  {
   "cell_type": "code",
   "execution_count": null,
   "metadata": {
    "colab": {
     "base_uri": "https://localhost:8080/",
     "height": 471
    },
    "execution": {
     "iopub.status.busy": "2023-04-24T16:07:23.474968Z",
     "iopub.status.idle": "2023-04-24T16:07:23.475645Z"
    },
    "id": "E0QAK4LwWmRV",
    "outputId": "ab2e4cb4-f4e1-4b50-bf17-947796994904",
    "papermill": {
     "duration": 0.971858,
     "end_time": "2021-04-25T07:14:34.468705",
     "exception": false,
     "start_time": "2021-04-25T07:14:33.496847",
     "status": "completed"
    },
    "tags": []
   },
   "outputs": [],
   "source": [
    "epochs = range(len(get_loss))\n",
    "plt.plot(epochs, get_loss, 'r', label='Loss of Training data')\n",
    "plt.plot(epochs, validation_loss, 'b', label='Loss of Validation data')\n",
    "plt.title('Training vs validation loss')\n",
    "plt.legend(loc=0)\n",
    "plt.figure()\n",
    "plt.show()"
   ]
  },
  {
   "cell_type": "markdown",
   "metadata": {
    "id": "0aExrX5Cb6zA"
   },
   "source": [
    "## Validation"
   ]
  },
  {
   "cell_type": "code",
   "execution_count": null,
   "metadata": {
    "id": "wV_FXBKMcX2V"
   },
   "outputs": [],
   "source": [
    "from tensorflow import keras\n",
    "model = keras.models.load_model(\"VGG_model_85.pth\")"
   ]
  },
  {
   "cell_type": "code",
   "execution_count": null,
   "metadata": {
    "colab": {
     "base_uri": "https://localhost:8080/"
    },
    "id": "GzjTZXEDcm6J",
    "outputId": "c3c4c088-675d-4567-d625-8cfe4153d38d"
   },
   "outputs": [],
   "source": [
    "y_pred=model.predict(testx)\n",
    "pred=np.argmax(y_pred,axis=1)\n",
    "ground=np.argmax(testy,axis=1)\n",
    "print(classification_report(ground,pred))"
   ]
  },
  {
   "cell_type": "code",
   "execution_count": null,
   "metadata": {
    "execution": {
     "iopub.status.busy": "2023-04-24T16:07:23.476878Z",
     "iopub.status.idle": "2023-04-24T16:07:23.477502Z"
    },
    "id": "38FV16oVWmRW"
   },
   "outputs": [],
   "source": [
    "def plot_gallery(images, titles, h, w, n_row=1, n_col=4):\n",
    "    \"\"\"Helper function to plot a gallery of portraits\"\"\"\n",
    "    plt.figure(figsize=(1.8 * n_col, 2.4 * n_row))\n",
    "    plt.subplots_adjust(bottom=0, left=.01, right=.99, top=.90, hspace=.35)\n",
    "    for i in range(n_row * n_col):\n",
    "        plt.subplot(n_row, n_col, i+1)\n",
    "        plt.imshow(images[i].reshape((h, w)), cmap=plt.cm.gray)\n",
    "        plt.title(titles[i], size=12)\n",
    "        plt.xticks(())\n",
    "        plt.yticks(())"
   ]
  },
  {
   "cell_type": "code",
   "execution_count": null,
   "metadata": {
    "colab": {
     "base_uri": "https://localhost:8080/",
     "height": 300
    },
    "execution": {
     "iopub.status.busy": "2023-04-24T16:07:23.478645Z",
     "iopub.status.idle": "2023-04-24T16:07:23.479266Z"
    },
    "id": "H35ZwFZZWmRW",
    "outputId": "57f0cc6e-294d-46fb-aa2a-67a4711b151e"
   },
   "outputs": [],
   "source": [
    "test1=test[0:4].reshape(4,62*47)\n",
    "plot_gallery(test1,'1234',62,47)\n",
    "print(test[0:4].shape)\n",
    "print(test1.shape)"
   ]
  },
  {
   "cell_type": "code",
   "execution_count": null,
   "metadata": {
    "colab": {
     "base_uri": "https://localhost:8080/"
    },
    "execution": {
     "iopub.status.busy": "2023-04-24T16:07:23.480531Z",
     "iopub.status.idle": "2023-04-24T16:07:23.481201Z"
    },
    "id": "R_8dARrEWmRW",
    "outputId": "edc86559-dc7f-4149-b3ec-9705da2febfc"
   },
   "outputs": [],
   "source": [
    "prediction_image=test[0:4]\n",
    "prediction=model.predict(prediction_image)\n",
    "print(prediction)"
   ]
  },
  {
   "cell_type": "code",
   "execution_count": null,
   "metadata": {
    "colab": {
     "base_uri": "https://localhost:8080/"
    },
    "execution": {
     "iopub.status.busy": "2023-04-24T16:07:23.482763Z",
     "iopub.status.idle": "2023-04-24T16:07:23.483434Z"
    },
    "id": "gl8-I2ytWmRW",
    "outputId": "618bbdc2-f3e6-434c-eec3-43b617389b47",
    "papermill": {
     "duration": 1.22121,
     "end_time": "2021-04-25T07:14:41.900362",
     "exception": false,
     "start_time": "2021-04-25T07:14:40.679152",
     "status": "completed"
    },
    "tags": []
   },
   "outputs": [],
   "source": [
    "for i in range(4):\n",
    "    value=np.argmax(prediction[i])\n",
    "    name=mapper(value)\n",
    "    print(\"Prediction {} is {}.\".format(i+1,name))"
   ]
  },
  {
   "cell_type": "code",
   "execution_count": null,
   "metadata": {
    "colab": {
     "base_uri": "https://localhost:8080/"
    },
    "execution": {
     "iopub.status.busy": "2023-04-24T16:07:23.484850Z",
     "iopub.status.idle": "2023-04-24T16:07:23.485519Z"
    },
    "id": "jaLzgQ4IWmRW",
    "outputId": "e9865b0b-ec51-44a7-a5c5-17a9a833ed51",
    "papermill": {
     "duration": 2.585739,
     "end_time": "2021-04-25T07:14:45.326559",
     "exception": false,
     "start_time": "2021-04-25T07:14:42.74082",
     "status": "completed"
    },
    "tags": []
   },
   "outputs": [],
   "source": [
    "print(test.shape)\n",
    "prediction2=model.predict(test)\n",
    "print(prediction2.shape)\n",
    "\n",
    "PRED=[]\n",
    "for item in prediction2:\n",
    "    value2=np.argmax(item)      \n",
    "    PRED+=[value2]"
   ]
  },
  {
   "cell_type": "code",
   "execution_count": null,
   "metadata": {
    "execution": {
     "iopub.status.busy": "2023-04-24T16:07:23.487210Z",
     "iopub.status.idle": "2023-04-24T16:07:23.487953Z"
    },
    "id": "z24hYwF4WmRW",
    "papermill": {
     "duration": 0.841886,
     "end_time": "2021-04-25T07:14:47.000496",
     "exception": false,
     "start_time": "2021-04-25T07:14:46.15861",
     "status": "completed"
    },
    "tags": []
   },
   "outputs": [],
   "source": [
    "ANS=tlabels0"
   ]
  },
  {
   "cell_type": "code",
   "execution_count": null,
   "metadata": {
    "colab": {
     "base_uri": "https://localhost:8080/"
    },
    "execution": {
     "iopub.status.busy": "2023-04-24T16:07:23.489393Z",
     "iopub.status.idle": "2023-04-24T16:07:23.490104Z"
    },
    "id": "70edwO08WmRW",
    "outputId": "2ccfac42-3786-4e8d-edee-c89c47d9be01",
    "papermill": {
     "duration": 0.846473,
     "end_time": "2021-04-25T07:14:48.711788",
     "exception": false,
     "start_time": "2021-04-25T07:14:47.865315",
     "status": "completed"
    },
    "tags": []
   },
   "outputs": [],
   "source": [
    "accuracy=accuracy_score(ANS,PRED)\n",
    "print(accuracy)"
   ]
  },
  {
   "cell_type": "code",
   "execution_count": null,
   "metadata": {
    "id": "5hQcAEJPWmRW",
    "papermill": {
     "duration": 0.84301,
     "end_time": "2021-04-25T07:14:50.392942",
     "exception": false,
     "start_time": "2021-04-25T07:14:49.549932",
     "status": "completed"
    },
    "tags": []
   },
   "outputs": [],
   "source": [
    "# model.save(\"VGG_model_85.pth\")"
   ]
  },
  {
   "cell_type": "code",
   "execution_count": null,
   "metadata": {
    "id": "7NXVUlP8-ApU"
   },
   "outputs": [],
   "source": [
    "# from tensorflow import keras\n",
    "# model = keras.models.load_model(\"VGG_model_85.pth\")"
   ]
  },
  {
   "cell_type": "code",
   "execution_count": null,
   "metadata": {
    "colab": {
     "base_uri": "https://localhost:8080/"
    },
    "id": "oLKERkJ2_q4X",
    "outputId": "03541de9-dab7-47ae-e6e2-1803afdaae77"
   },
   "outputs": [],
   "source": [
    "# !zip -r VGG_model_85.zip VGG_model_85.pth"
   ]
  },
  {
   "cell_type": "markdown",
   "metadata": {
    "id": "vfl3slvqcKXV"
   },
   "source": []
  },
  {
   "cell_type": "code",
   "execution_count": null,
   "metadata": {
    "id": "l2shYJ99_u35"
   },
   "outputs": [],
   "source": []
  }
 ],
 "metadata": {
  "colab": {
   "collapsed_sections": [
    "xclWcuAucRwg",
    "eDEsIOhEbWTm"
   ],
   "provenance": []
  },
  "kernelspec": {
   "display_name": "Python 3 (ipykernel)",
   "language": "python",
   "name": "python3"
  },
  "language_info": {
   "codemirror_mode": {
    "name": "ipython",
    "version": 3
   },
   "file_extension": ".py",
   "mimetype": "text/x-python",
   "name": "python",
   "nbconvert_exporter": "python",
   "pygments_lexer": "ipython3",
   "version": "3.7.9"
  }
 },
 "nbformat": 4,
 "nbformat_minor": 1
}
